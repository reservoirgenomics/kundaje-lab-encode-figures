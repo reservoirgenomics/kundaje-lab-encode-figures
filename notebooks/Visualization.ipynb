{
 "cells": [
  {
   "cell_type": "code",
   "execution_count": 79,
   "metadata": {},
   "outputs": [
    {
     "name": "stdout",
     "output_type": "stream",
     "text": [
      "The autoreload extension is already loaded. To reload it, use:\n",
      "  %reload_ext autoreload\n"
     ]
    }
   ],
   "source": [
    "%load_ext autoreload\n",
    "%autoreload 2"
   ]
  },
  {
   "cell_type": "code",
   "execution_count": 112,
   "metadata": {},
   "outputs": [
    {
     "data": {
      "application/javascript": [
       "\n",
       "require([\"https://unpkg.com/higlass-multi-tileset\"],\n",
       "    function(hglib) {\n",
       "\n",
       "});\n",
       "\n",
       "require([\"https://unpkg.com/higlass-dynseq@0.1.4/dist/higlass-dynseq.umd.js\"],\n",
       "    function(hglib) {\n",
       "});\n",
       "\n",
       "require([\"https://unpkg.com/higlass-transcripts/dist/higlass-transcripts.js\"],\n",
       "    function(hglib) {\n",
       "});\n",
       "\n",
       "require([\"https://unpkg.com/higlass-arcs/dist/higlass-arcs.min.js\"],\n",
       "    function(hglib) {\n",
       "});\n"
      ],
      "text/plain": [
       "<IPython.core.display.Javascript object>"
      ]
     },
     "metadata": {},
     "output_type": "display_data"
    }
   ],
   "source": [
    "%%javascript\n",
    "\n",
    "require([\"https://unpkg.com/higlass-multi-tileset\"],\n",
    "    function(hglib) {\n",
    "\n",
    "});\n",
    "\n",
    "require([\"https://unpkg.com/higlass-dynseq@0.1.4/dist/higlass-dynseq.umd.js\"],\n",
    "    function(hglib) {\n",
    "});\n",
    "\n",
    "require([\"https://unpkg.com/higlass-transcripts/dist/higlass-transcripts.js\"],\n",
    "    function(hglib) {\n",
    "});\n",
    "\n",
    "require([\"https://unpkg.com/higlass-arcs/dist/higlass-arcs.min.js\"],\n",
    "    function(hglib) {\n",
    "});"
   ]
  },
  {
   "cell_type": "code",
   "execution_count": 81,
   "metadata": {},
   "outputs": [
    {
     "data": {
      "application/vnd.jupyter.widget-view+json": {
       "model_id": "980d466f34da47409b50f187d4137676",
       "version_major": 2,
       "version_minor": 0
      },
      "text/plain": [
       "HiGlassDisplay(viewconf={'editable': True, 'views': [{'uid': 'd3i469W1RHGW1-2Z7Ixgyw', 'tracks': {'top': [{'ty…"
      ]
     },
     "metadata": {},
     "output_type": "display_data"
    }
   ],
   "source": [
    "import higlass\n",
    "from higlass.client import Track, View\n",
    "\n",
    "data = {\n",
    "  \"type\": \"multi-tileset\",\n",
    "  \"configs\": [\n",
    "    {\n",
    "      \"server\": \"https://resgen.io/api/v1\",\n",
    "      \"tilesetUid\": \"GsjRN353Qmm-TmEohvLNBA\"\n",
    "    },\n",
    "    {\n",
    "      \"server\": \"https://resgen.io/api/v1\",\n",
    "      \"tilesetUid\": \"Z6_3sHNKQK2exNOFJXcshg\"\n",
    "    }\n",
    "  ]\n",
    "}\n",
    "\n",
    "t = Track(type='horizontal-dynseq', position='top', data=data, height=100)\n",
    "\n",
    "display, server, viewconf = higlass.display(\n",
    "    [View([Track('top-axis'), t], initialXDomain=[\n",
    "        1474922620.0091968,\n",
    "        1474922681.829122\n",
    "      ])\n",
    "], fuse=False)\n",
    "display"
   ]
  },
  {
   "cell_type": "code",
   "execution_count": 82,
   "metadata": {},
   "outputs": [],
   "source": [
    "import os\n",
    "\n",
    "rgl = rg.connect(os.environ.get('RESGEN_USERNAME'), os.environ.get('RESGEN_PASSWORD'), host='http://localhost:8000')"
   ]
  },
  {
   "cell_type": "code",
   "execution_count": 83,
   "metadata": {},
   "outputs": [],
   "source": [
    "projectl = rgl.find_or_create_project('scratch')\n",
    "projectl.sync_viewconf(viewconf, 'test view')"
   ]
  },
  {
   "cell_type": "code",
   "execution_count": 84,
   "metadata": {},
   "outputs": [],
   "source": [
    "def dynseq_track(sequences_track, bigwig_track, height=60, **options):\n",
    "    data = {\n",
    "      \"type\": \"multi-tileset\",\n",
    "      \"configs\": [\n",
    "        {\n",
    "          \"server\": f\"{bigwig_track.conn.host}/api/v1\",\n",
    "          \"tilesetUid\": bigwig_track.uuid\n",
    "        },\n",
    "        {\n",
    "          \"server\": f\"{sequences_track.conn.host}/api/v1\",\n",
    "          \"tilesetUid\": sequences_track.uuid\n",
    "        },\n",
    "      ]\n",
    "    }\n",
    "    return Track(type='horizontal-dynseq', position='top', data=data, height=height, options=options)"
   ]
  },
  {
   "cell_type": "code",
   "execution_count": 106,
   "metadata": {},
   "outputs": [
    {
     "data": {
      "text/plain": [
       "WjLRf-GC: Gene Transcripts (hg38)"
      ]
     },
     "execution_count": 106,
     "metadata": {},
     "output_type": "execute_result"
    }
   ],
   "source": [
    "import resgen as rg\n",
    "rgc = rg.connect()\n",
    "\n",
    "gene_annotations_project = rgc.find_or_create_project('gene-annotations', group='pete')\n",
    "chromsizes = rgc.find_datasets(\n",
    "    project=gene_annotations_project, datatype='chromsizes', assembly='hg38'\n",
    "  )[0]\n",
    "\n",
    "chrominfo = rgc.get_chrominfo(chromsizes)\n",
    "\n",
    "gene_annotations = rgc.find_datasets(\n",
    "    project=rgc.find_or_create_project('gene-annotations', group='pete'),\n",
    "    datatype='gene-annotations', assembly='hg38'\n",
    ")[0]\n",
    "sequences_track = rgc.find_datasets(\n",
    "    project=rgc.find_or_create_project('assemblies', group='pete'),\n",
    "    datatype='sequence', assembly='hg38'\n",
    ")[0]\n",
    "\n",
    "hg38_transcripts = rgc.find_datasets(\n",
    "    \"Gene Transcripts (hg38)\",\n",
    "    project=rgc.find_or_create_project('gene-annotations', group='pete')                                \n",
    ")[0]"
   ]
  },
  {
   "cell_type": "code",
   "execution_count": 110,
   "metadata": {},
   "outputs": [],
   "source": [
    "gene_annotations_track = gene_annotations.hg_track(\n",
    "    height=50,\n",
    "    geneAnnotationHeight=8\n",
    ")\n",
    "transcripts_track = hg38_transcripts.hg_track(\n",
    "            track_type='horizontal-transcripts', position='top',\n",
    "            height=30)"
   ]
  },
  {
   "cell_type": "code",
   "execution_count": 86,
   "metadata": {},
   "outputs": [],
   "source": [
    "encode_project = rgc.find_or_create_project('encode-demo', group='kundaje-lab')"
   ]
  },
  {
   "cell_type": "code",
   "execution_count": 157,
   "metadata": {},
   "outputs": [],
   "source": [
    "gata1_profile = rgc.find_datasets(\n",
    "    \"GATA1.K562.ENCSR000EFT.profile.bw\",\n",
    "    project=encode_project\n",
    ")[0]\n",
    "gata1_counts = rgc.find_datasets(\n",
    "    \"GATA1.K562.ENCSR000EFT.chr11.counts.bw\",\n",
    "    project=encode_project\n",
    ")[0]\n",
    "\n",
    "gata2_profile = rgc.find_datasets(\n",
    "    \"GATA2.K562.ENCSR000BKM.profile.bw\",\n",
    "    project=encode_project\n",
    ")[0]\n",
    "gata2_counts = rgc.find_datasets(\n",
    "    \"GATA2.K562.ENCSR000BKM.chr11.counts.bw\",\n",
    "    project=encode_project\n",
    ")[0]\n",
    "\n",
    "dnase_profile = rgc.find_datasets(\n",
    "    \"K562.DNase.ENCSR000EOT.chr11.profile.bw\",\n",
    "    project=encode_project\n",
    ")[0]\n",
    "dnase_counts = rgc.find_datasets(\n",
    "    \"K562.DNase.ENCSR000EOT.chr11.count.bw\",\n",
    "    project=encode_project\n",
    ")[0]\n",
    "\n",
    "nfe1_profile = rgc.find_datasets(\n",
    "    \"NFE2.K562.ENCSR000FCC.profile.bw\",\n",
    "    project=encode_project\n",
    ")[0]\n",
    "\n",
    "tal1_counts = rgc.find_datasets(\n",
    "    \"TAL1.K562.ENCSR000EHB.chr11.counts.bw\",\n",
    "    project=encode_project\n",
    ")[0]\n",
    "tal1_profile = rgc.find_datasets(\n",
    "    \"TAL1.K562.ENCSR000EHB.profile.bw\",\n",
    "    project=encode_project\n",
    ")[0]\n",
    "\n",
    "usf1_counts = rgc.find_datasets(\n",
    "    \"USF1.K562.ENCSR000BKT.chr11.counts.bw\",\n",
    "    project=encode_project\n",
    ")[0]\n",
    "usf1_profile = rgc.find_datasets(\n",
    "    \"USF1.K562.ENCSR000BKT.profile.bw\",\n",
    "    project=encode_project\n",
    ")[0]"
   ]
  },
  {
   "cell_type": "code",
   "execution_count": 124,
   "metadata": {},
   "outputs": [],
   "source": [
    "dnase_pred = rgc.find_datasets(\n",
    "        \"K562.DNase.ENCSR000EOT.chr11.pred.bw\",\n",
    "        project=encode_project)[0].hg_track(\n",
    "            name=\"DNase predicted\",\n",
    "            height=20,\n",
    "            barFillColor=\"blue\")\n",
    "danse_obs = rgc.find_datasets(\n",
    "        \"K562.DNase.ENCSR000EOT.bw\",\n",
    "        project=encode_project)[0].hg_track(\n",
    "            name=\"DNase observed\",\n",
    "            height=20,\n",
    "            barFillColor=\"blue\")"
   ]
  },
  {
   "cell_type": "code",
   "execution_count": 230,
   "metadata": {},
   "outputs": [],
   "source": [
    "def track_options(name, strand):\n",
    "    return {\n",
    "        \"track_type\": \"horizontal-line\",\n",
    "        \"height\": 35,\n",
    "        \"lineStrokeColor\": \"blue\" if strand == '+' else \"orange\",\n",
    "        \"name\": name,\n",
    "        \"nanAsZero\": True\n",
    "    }\n",
    "\n",
    "def line_track(filename, name, strand):\n",
    "    return rgc.find_datasets(\n",
    "        filename,\n",
    "        project=encode_project)[0].hg_track(**track_options(name, strand))"
   ]
  },
  {
   "cell_type": "code",
   "execution_count": 232,
   "metadata": {},
   "outputs": [],
   "source": [
    "nfe2_obs_minus = line_track(\"NFE2.K562.ENCSR000FCC_minus.bigWig\",\"NFE2 observed\", '-')\n",
    "nfe2_obs_plus = line_track(\"NFE2.K562.ENCSR000FCC_plus.bigWig\",\"NFE2 observed\", '+')\n",
    "\n",
    "tal1_obs_minus = line_track(\"TAL1.K562.ENCSR000EHB_minus.bigWig\", \"TAL1 observed\", '-')\n",
    "tal1_obs_plus = line_track(\"TAL1.K562.ENCSR000EHB_plus.bigWig\", \"TAL1 observed\", '+')\n",
    "\n",
    "usf1_obs_minus = line_track(\"USF1.K562.ENCSR000BKT_minus.bigWig\", \"USF1 observed\", '-')\n",
    "usf1_obs_plus = line_track(\"USF1.K562.ENCSR000BKT_plus.bigWig\", \"USF observed\", '+')\n",
    "\n",
    "gata1_obs_minus = line_track(\"GATA1.K562.ENCSR000EFT_minus.bigWig\", \"GATA1 observed\", '-')\n",
    "gata1_obs_plus = line_track(\"GATA1.K562.ENCSR000EFT_plus.bigWig\", \"GATA1 observed\", '+')\n",
    "\n",
    "gata2_obs_minus = line_track(\"GATA2.K562.ENCSR000BKM_minus.bigWig\", \"GATA2 observed\", '-')\n",
    "gata2_obs_plus = line_track(\"GATA2.K562.ENCSR000BKM_plus.bigWig\", \"GATA2 observed\", '+')"
   ]
  },
  {
   "cell_type": "code",
   "execution_count": 233,
   "metadata": {},
   "outputs": [],
   "source": [
    "nfe2_pred_minus = line_track(\"NFE2.K562.ENCSR000FCC.minus.bw\", \"NFE2 predicted\", '-')\n",
    "nfe2_pred_plus = line_track(\"NFE2.K562.ENCSR000FCC.plus.bw\",\"NFE2 predicted\", '+')\n",
    "\n",
    "tal1_pred_minus = line_track(\"TAL1.K562.ENCSR000EHB.minus.bw\", \"TAL1 predicted\", '-')\n",
    "tal1_pred_plus = line_track(\"TAL1.K562.ENCSR000EHB.plus.bw\", \"TAL1 predicted\", '+')\n",
    "\n",
    "usf1_pred_minus = line_track(\"USF1.K562.ENCSR000BKT.minus.bw\", \"USF1 predicted\", '-')\n",
    "usf1_pred_plus = line_track(\"USF1.K562.ENCSR000BKT.plus.bw\", \"USF1 predicted\", '+')\n",
    "\n",
    "gata1_pred_minus = line_track(\"GATA1.K562.ENCSR000EFT.minus.bw\", \"GATA1 predicted\", '-')\n",
    "gata1_pred_plus = line_track(\"GATA1.K562.ENCSR000EFT.plus.bw\", \"GATA1 predicted\", '+')\n",
    "\n",
    "gata2_pred_minus = line_track(\"GATA2.K562.ENCSR000BKM.minus.bw\", \"GATA2 predicted\", '-')\n",
    "gata2_pred_plus = line_track(\"GATA2.K562.ENCSR000BKM.plus.bw\", \"GATA2 predicted\", '+')"
   ]
  },
  {
   "cell_type": "code",
   "execution_count": 234,
   "metadata": {
    "scrolled": true
   },
   "outputs": [
    {
     "data": {
      "application/vnd.jupyter.widget-view+json": {
       "model_id": "f86a6e45e85c433f88f58e24b57af9f0",
       "version_major": 2,
       "version_minor": 0
      },
      "text/plain": [
       "HiGlassDisplay(viewconf={'editable': True, 'views': [{'uid': 'FwNh9b8JRlCs3gMQHEvbew', 'tracks': {'top': [{'ty…"
      ]
     },
     "metadata": {},
     "output_type": "display_data"
    }
   ],
   "source": [
    "dynseq_height = 50\n",
    "\n",
    "display, server, viewconf = higlass.display(\n",
    "    [View([\n",
    "        transcripts_track,\n",
    "        chromsizes.hg_track(height=30),\n",
    "        gene_annotations_track,\n",
    "        danse_obs,\n",
    "        dnase_pred,\n",
    "        nfe2_obs_plus + nfe2_obs_minus,\n",
    "        nfe2_pred_plus + nfe2_pred_minus,\n",
    "        gata1_obs_plus + gata1_obs_minus,\n",
    "        gata1_pred_plus + gata1_pred_minus,\n",
    "        dynseq_track(\n",
    "            sequences_track, gata1_profile,\n",
    "            height=dynseq_height,\n",
    "            name=\"GATA1 profile\"\n",
    "        ),\n",
    "        dynseq_track(\n",
    "            sequences_track, gata1_counts,\n",
    "            height=dynseq_height,\n",
    "            name=\"GATA2 counts\"\n",
    "        ),\n",
    "        gata2_obs_plus + gata2_obs_minus,\n",
    "        gata2_pred_plus + gata2_pred_minus,\n",
    "        dynseq_track(\n",
    "            sequences_track, gata2_profile,\n",
    "            height=dynseq_height,\n",
    "            name=\"GATA2 profile\"\n",
    "        ),\n",
    "        tal1_obs_plus + tal1_obs_minus,\n",
    "        tal1_pred_plus + tal1_pred_minus,\n",
    "        dynseq_track(sequences_track, tal1_profile, height=dynseq_height,\n",
    "                     name=\"TAIL1 profile\"\n",
    "                    ),\n",
    "        dynseq_track(sequences_track, tal1_counts, height=dynseq_height,\n",
    "                    name=\"TAIL1 counts\"),\n",
    "        usf1_obs_plus + usf1_obs_minus,\n",
    "        usf1_pred_plus + usf1_pred_minus,\n",
    "        dynseq_track(sequences_track, usf1_profile, height=dynseq_height,\n",
    "                    name=\"USF1 profile\"),\n",
    "        dynseq_track(sequences_track, usf1_counts, height=dynseq_height,\n",
    "                    name=\"USF1 counts\"),\n",
    "    ], initialXDomain=[\n",
    "        chrominfo.to_abs('chr11', 5280637),\n",
    "        chrominfo.to_abs('chr11', 5280800)\n",
    "      ])\n",
    "], fuse=False)\n",
    "display"
   ]
  },
  {
   "cell_type": "code",
   "execution_count": 228,
   "metadata": {},
   "outputs": [],
   "source": [
    "encode_project.sync_viewconf(viewconf, 'Figure 1')"
   ]
  },
  {
   "cell_type": "code",
   "execution_count": 204,
   "metadata": {},
   "outputs": [],
   "source": [
    "import bbi\n",
    "import numpy as np\n",
    "\n",
    "data = bbi.fetch(\n",
    "    'http://mitra.stanford.edu/kundaje/surag/dynseq/beta_globin/observed_bigWigs/GATA2.K562.ENCSR000BKM_minus.bigWig',\n",
    "    'chr11',\n",
    "    5280007, 5280830, missing=np.nan)\n",
    "\n"
   ]
  },
  {
   "cell_type": "markdown",
   "metadata": {},
   "source": [
    "## Figure 2"
   ]
  },
  {
   "cell_type": "code",
   "execution_count": 87,
   "metadata": {},
   "outputs": [],
   "source": [
    "encode_project2 = rgc.find_or_create_project('encode-demo-2', group='kundaje-lab')"
   ]
  },
  {
   "cell_type": "code",
   "execution_count": 88,
   "metadata": {},
   "outputs": [
    {
     "data": {
      "text/plain": [
       "NSbBLOJi: cluster_idx1.pval.signal.bw"
      ]
     },
     "execution_count": 88,
     "metadata": {},
     "output_type": "execute_result"
    }
   ],
   "source": [
    "cluster = 1\n",
    "rgc.find_datasets(f'cluster_idx{cluster}.pval.signal.bw', project=encode_project2)[0]"
   ]
  },
  {
   "cell_type": "code",
   "execution_count": 89,
   "metadata": {},
   "outputs": [
    {
     "data": {
      "text/html": [
       "<div>\n",
       "<style scoped>\n",
       "    .dataframe tbody tr th:only-of-type {\n",
       "        vertical-align: middle;\n",
       "    }\n",
       "\n",
       "    .dataframe tbody tr th {\n",
       "        vertical-align: top;\n",
       "    }\n",
       "\n",
       "    .dataframe thead th {\n",
       "        text-align: right;\n",
       "    }\n",
       "</style>\n",
       "<table border=\"1\" class=\"dataframe\">\n",
       "  <thead>\n",
       "    <tr style=\"text-align: right;\">\n",
       "      <th></th>\n",
       "      <th>new_cluster</th>\n",
       "      <th>colour</th>\n",
       "      <th>description</th>\n",
       "    </tr>\n",
       "  </thead>\n",
       "  <tbody>\n",
       "    <tr>\n",
       "      <th>0</th>\n",
       "      <td>1</td>\n",
       "      <td>#B03743</td>\n",
       "      <td>Fibroblast</td>\n",
       "    </tr>\n",
       "    <tr>\n",
       "      <th>1</th>\n",
       "      <td>2</td>\n",
       "      <td>#7C2730</td>\n",
       "      <td>Fibroblast-like</td>\n",
       "    </tr>\n",
       "    <tr>\n",
       "      <th>2</th>\n",
       "      <td>3</td>\n",
       "      <td>#E85F6D</td>\n",
       "      <td>Fibroblast-like</td>\n",
       "    </tr>\n",
       "    <tr>\n",
       "      <th>3</th>\n",
       "      <td>4</td>\n",
       "      <td>#CF175A</td>\n",
       "      <td>Fibroblast-like</td>\n",
       "    </tr>\n",
       "    <tr>\n",
       "      <th>4</th>\n",
       "      <td>5</td>\n",
       "      <td>#F01D35</td>\n",
       "      <td>Fibroblast-like</td>\n",
       "    </tr>\n",
       "  </tbody>\n",
       "</table>\n",
       "</div>"
      ],
      "text/plain": [
       "   new_cluster   colour      description\n",
       "0            1  #B03743       Fibroblast\n",
       "1            2  #7C2730  Fibroblast-like\n",
       "2            3  #E85F6D  Fibroblast-like\n",
       "3            4  #CF175A  Fibroblast-like\n",
       "4            5  #F01D35  Fibroblast-like"
      ]
     },
     "execution_count": 89,
     "metadata": {},
     "output_type": "execute_result"
    }
   ],
   "source": [
    "import pandas as pd\n",
    "\n",
    "t = pd.read_table('../cluster.tsv')\n",
    "\n",
    "t.head()"
   ]
  },
  {
   "cell_type": "code",
   "execution_count": 139,
   "metadata": {},
   "outputs": [],
   "source": [
    "signal_tracks = []\n",
    "signal_datasets = []\n",
    "\n",
    "importance_tracks = []\n",
    "importance_datasets = []\n",
    "\n",
    "track_opts = {\n",
    "    \"track_type\": \"bar\",\n",
    "    \"height\": 30\n",
    "}\n",
    "\n",
    "for i,x in list(t.iterrows()):\n",
    "    if x['new_cluster'] not in [1, 8, 11,12,13,14,15]:\n",
    "        # subset the tracks as per Surag\n",
    "        continue\n",
    "        \n",
    "    signal_dataset = rgc.find_datasets(\n",
    "        f\"cluster_idx{x['new_cluster']}.pval.signal.bw\", project=encode_project2\n",
    "    )[0]\n",
    "    importance_dataset = rgc.find_datasets(\n",
    "        f\"cluster_idx{x['new_cluster']}.counts.importance.bw\", project=encode_project2\n",
    "    )[0]\n",
    "    signal_tracks += [signal_dataset.hg_track(\n",
    "        **track_opts, barFillColor=x['colour'],\n",
    "        name=x['description'],\n",
    "        valueScaleMin=0, valueScaleMax=40)]\n",
    "    importance_tracks += [importance_dataset.hg_track(**track_opts, barFillColor=x['colour'], name=x['description'])]\n",
    "    \n",
    "    signal_datasets += [signal_dataset]\n",
    "    importance_datasets += [importance_dataset]\n"
   ]
  },
  {
   "cell_type": "code",
   "execution_count": 140,
   "metadata": {},
   "outputs": [],
   "source": [
    "bed_track = rgc.find_datasets(\n",
    "    'overlap.peaks.resolved.500.truncated.bed.bgz', project=encode_project2\n",
    ")[0].hg_track(track_type='bedlike', height=15)\n",
    "arcs_track = rgc.find_datasets(\n",
    "    'NANOG.links.bed', project=encode_project2\n",
    ")[0].hg_track(track_type='1d-arcs', position='top', height=35)"
   ]
  },
  {
   "cell_type": "code",
   "execution_count": 141,
   "metadata": {},
   "outputs": [
    {
     "name": "stdout",
     "output_type": "stream",
     "text": [
      "top_tracks_height 100\n"
     ]
    },
    {
     "data": {
      "application/vnd.jupyter.widget-view+json": {
       "model_id": "a89b837a27e145d5ade754dc5854c7b0",
       "version_major": 2,
       "version_minor": 0
      },
      "text/plain": [
       "HiGlassDisplay(viewconf={'editable': True, 'views': [{'uid': 'Ooa4yzZRTuWVq1-zoTW5UA', 'tracks': {'top': [{'ty…"
      ]
     },
     "metadata": {},
     "output_type": "display_data"
    }
   ],
   "source": [
    "from higlass import display\n",
    "\n",
    "datasets = importance_datasets\n",
    "tracks = importance_tracks\n",
    "dynseq_options = {\n",
    "    \"labelPosition\": \"hidden\"\n",
    "}\n",
    "\n",
    "chromsizes_track = chromsizes.hg_track(\n",
    "    height=30,\n",
    "    tickPositions=\"ends\")\n",
    "\n",
    "top_tracks = [gene_annotations_track, arcs_track, bed_track]\n",
    "top_tracks_height = sum([t.conf['height'] for t in top_tracks])\n",
    "empty_tracks = [Track(track_type='empty', position='top', height=top_tracks_height)]\n",
    "print('top_tracks_height', top_tracks_height)\n",
    "\n",
    "signal_view = View([chromsizes_track] + top_tracks + signal_tracks, initialXDomain=[\n",
    "            chrominfo.to_abs('chr12', 7635689),\n",
    "            chrominfo.to_abs('chr12', 7810787)\n",
    "          ], x=3, width=6, height=6)\n",
    "\n",
    "dynseq_view1 = View(\n",
    "    [chromsizes_track] + empty_tracks +\n",
    "    [dynseq_track(sequences_track, d, height=30, **dynseq_options) for d in datasets],\n",
    "          initialXDomain=[\n",
    "            chrominfo.to_abs('chr12', 7638839),\n",
    "            chrominfo.to_abs('chr12', 7638877)\n",
    "          ], x=0, width=3, height=6)\n",
    "dynseq_view2 = View(\n",
    "    [chromsizes_track] + empty_tracks +\n",
    "    [dynseq_track(sequences_track, d, height=30, **dynseq_options) for d in datasets],\n",
    "          initialXDomain=[\n",
    "            chrominfo.to_abs('chr12', 7807035),\n",
    "            chrominfo.to_abs('chr12', 7807075)\n",
    "          ], x=9, width=3, height=6)\n",
    "\n",
    "dynseq_view3 = View(\n",
    "    [chromsizes_track] +\n",
    "    [dynseq_track(sequences_track, d, height=30, **dynseq_options) for d in datasets],\n",
    "          initialXDomain=[\n",
    "            chrominfo.to_abs('chr12', 7716560),\n",
    "            chrominfo.to_abs('chr12', 7716600)\n",
    "          ], x=1, width=3, y=6, height=6)\n",
    "\n",
    "dynseq_view4 = View(\n",
    "    [chromsizes_track] +\n",
    "    [dynseq_track(sequences_track, d, height=30, **dynseq_options) for d in datasets],\n",
    "          initialXDomain=[\n",
    "            chrominfo.to_abs('chr12', 7758383),\n",
    "            chrominfo.to_abs('chr12', 7758497)\n",
    "          ], x=4, width=5, y=6, height=6)\n",
    "\n",
    "dynseq_view5 = View(\n",
    "    [chromsizes_track] +\n",
    "    [dynseq_track(sequences_track, d, height=30, **dynseq_options) for d in datasets],\n",
    "          initialXDomain=[\n",
    "            chrominfo.to_abs('chr12', 7789247),\n",
    "            chrominfo.to_abs('chr12', 7789308)\n",
    "          ], x=9, width=3, y=6, height=6)\n",
    "\n",
    "d,s,v = display([\n",
    "        signal_view, dynseq_view1, dynseq_view2,\n",
    "        dynseq_view3, dynseq_view4, dynseq_view5\n",
    "    ], fuse=False, )\n",
    "# d,s,v = display([\n",
    "#         signal_view, dynseq_view1], fuse=False, )\n",
    "        \n",
    "d"
   ]
  },
  {
   "cell_type": "code",
   "execution_count": 147,
   "metadata": {},
   "outputs": [
    {
     "data": {
      "text/plain": [
       "CompletedProcess(args='pbcopy', returncode=0)"
      ]
     },
     "execution_count": 147,
     "metadata": {},
     "output_type": "execute_result"
    }
   ],
   "source": [
    "import json\n",
    "import subprocess \n",
    "\n",
    "data = json.dumps(v.to_dict())\n",
    "\n",
    "subprocess.run(\"pbcopy\", universal_newlines=True, input=data)"
   ]
  },
  {
   "cell_type": "code",
   "execution_count": null,
   "metadata": {},
   "outputs": [],
   "source": []
  }
 ],
 "metadata": {
  "kernelspec": {
   "display_name": "Python 3",
   "language": "python",
   "name": "python3"
  },
  "language_info": {
   "codemirror_mode": {
    "name": "ipython",
    "version": 3
   },
   "file_extension": ".py",
   "mimetype": "text/x-python",
   "name": "python",
   "nbconvert_exporter": "python",
   "pygments_lexer": "ipython3",
   "version": "3.8.3"
  }
 },
 "nbformat": 4,
 "nbformat_minor": 4
}
