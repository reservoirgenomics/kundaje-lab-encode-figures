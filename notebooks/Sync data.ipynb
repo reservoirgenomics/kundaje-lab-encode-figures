{
 "cells": [
  {
   "cell_type": "code",
   "execution_count": 2,
   "metadata": {},
   "outputs": [],
   "source": [
    "%load_ext autoreload\n",
    "%autoreload 2"
   ]
  },
  {
   "cell_type": "code",
   "execution_count": 3,
   "metadata": {},
   "outputs": [],
   "source": [
    "import resgen as rg\n",
    "rgc = rg.connect()\n",
    "\n",
    "project = rgc.find_or_create_project('encode-demo', group='kundaje-lab', private=False)"
   ]
  },
  {
   "cell_type": "code",
   "execution_count": 4,
   "metadata": {},
   "outputs": [
    {
     "data": {
      "text/plain": [
       "J5kSddHo: None"
      ]
     },
     "execution_count": 4,
     "metadata": {},
     "output_type": "execute_result"
    }
   ],
   "source": [
    "project"
   ]
  },
  {
   "cell_type": "code",
   "execution_count": 5,
   "metadata": {},
   "outputs": [
    {
     "name": "stderr",
     "output_type": "stream",
     "text": [
      "INFO:resgen:Syncing dataset: http://mitra.stanford.edu/kundaje/surag/dynseq/beta_globin/GATA1.K562.ENCSR000EFT.chr11.counts.bw\n"
     ]
    },
    {
     "name": "stdout",
     "output_type": "stream",
     "text": [
      "url https://resgen.io/api/v1/list_tilesets/?limit=1000&&ui=J5kSddHoT5usdIwH3Jeujw&df=GATA1.K562.ENCSR000EFT.chr11.counts.bw&ac=&limit=1000\n"
     ]
    },
    {
     "name": "stderr",
     "output_type": "stream",
     "text": [
      "INFO:resgen:Found dataset with the same filepath, updating metadata\n",
      "INFO:resgen:Syncing dataset: http://mitra.stanford.edu/kundaje/surag/dynseq/beta_globin/GATA1.K562.ENCSR000EFT.profile.bw\n"
     ]
    },
    {
     "name": "stdout",
     "output_type": "stream",
     "text": [
      "url https://resgen.io/api/v1/list_tilesets/?limit=1000&&ui=J5kSddHoT5usdIwH3Jeujw&df=GATA1.K562.ENCSR000EFT.profile.bw&ac=&limit=1000\n"
     ]
    },
    {
     "name": "stderr",
     "output_type": "stream",
     "text": [
      "INFO:resgen:Found dataset with the same filepath, updating metadata\n",
      "INFO:resgen:Syncing dataset: http://mitra.stanford.edu/kundaje/surag/dynseq/beta_globin/GATA2.K562.ENCSR000BKM.chr11.counts.bw\n"
     ]
    },
    {
     "name": "stdout",
     "output_type": "stream",
     "text": [
      "url https://resgen.io/api/v1/list_tilesets/?limit=1000&&ui=J5kSddHoT5usdIwH3Jeujw&df=GATA2.K562.ENCSR000BKM.chr11.counts.bw&ac=&limit=1000\n"
     ]
    },
    {
     "name": "stderr",
     "output_type": "stream",
     "text": [
      "INFO:resgen:Adding link dataset: http://mitra.stanford.edu/kundaje/surag/dynseq/beta_globin/GATA2.K562.ENCSR000BKM.chr11.counts.bw\n"
     ]
    },
    {
     "name": "stdout",
     "output_type": "stream",
     "text": [
      "content {'uuid': 'AyKiUqnPRvy3APZ0PIqhiQ', 'datafile': 'http://mitra.stanford.edu/kundaje/surag/dynseq/beta_globin/GATA2.K562.ENCSR000BKM.chr11.counts.bw', 'indexfile': None, 'filetype': '', 'datatype': 'vector', 'name': 'GATA2.K562.ENCSR000BKM.chr11.counts.bw', 'coordSystem': '', 'coordSystem2': '', 'created': '2021-10-02T03:22:42.963054Z', 'tags': [{'name': 'datatype:vector', 'description': ''}, {'name': 'filetype:bigwig', 'description': ''}], 'hidden': False, 'project': 'J5kSddHoT5usdIwH3Jeujw', 'description': '', 'filesize': 0}\n"
     ]
    },
    {
     "name": "stderr",
     "output_type": "stream",
     "text": [
      "INFO:resgen:Syncing dataset: http://mitra.stanford.edu/kundaje/surag/dynseq/beta_globin/GATA2.K562.ENCSR000BKM.profile.bw\n"
     ]
    },
    {
     "name": "stdout",
     "output_type": "stream",
     "text": [
      "url https://resgen.io/api/v1/list_tilesets/?limit=1000&&ui=J5kSddHoT5usdIwH3Jeujw&df=GATA2.K562.ENCSR000BKM.profile.bw&ac=&limit=1000\n"
     ]
    },
    {
     "name": "stderr",
     "output_type": "stream",
     "text": [
      "INFO:resgen:Adding link dataset: http://mitra.stanford.edu/kundaje/surag/dynseq/beta_globin/GATA2.K562.ENCSR000BKM.profile.bw\n"
     ]
    },
    {
     "name": "stdout",
     "output_type": "stream",
     "text": [
      "content {'uuid': 'ODEDrPtPTimdIj76Cnc-9Q', 'datafile': 'http://mitra.stanford.edu/kundaje/surag/dynseq/beta_globin/GATA2.K562.ENCSR000BKM.profile.bw', 'indexfile': None, 'filetype': '', 'datatype': 'vector', 'name': 'GATA2.K562.ENCSR000BKM.profile.bw', 'coordSystem': '', 'coordSystem2': '', 'created': '2021-10-02T03:22:46.293014Z', 'tags': [{'name': 'datatype:vector', 'description': ''}, {'name': 'filetype:bigwig', 'description': ''}], 'hidden': False, 'project': 'J5kSddHoT5usdIwH3Jeujw', 'description': '', 'filesize': 0}\n"
     ]
    },
    {
     "name": "stderr",
     "output_type": "stream",
     "text": [
      "INFO:resgen:Syncing dataset: http://mitra.stanford.edu/kundaje/surag/dynseq/beta_globin/K562.DNase.ENCSR000EOT.chr11.count.bw\n"
     ]
    },
    {
     "name": "stdout",
     "output_type": "stream",
     "text": [
      "url https://resgen.io/api/v1/list_tilesets/?limit=1000&&ui=J5kSddHoT5usdIwH3Jeujw&df=K562.DNase.ENCSR000EOT.chr11.count.bw&ac=&limit=1000\n"
     ]
    },
    {
     "name": "stderr",
     "output_type": "stream",
     "text": [
      "INFO:resgen:Adding link dataset: http://mitra.stanford.edu/kundaje/surag/dynseq/beta_globin/K562.DNase.ENCSR000EOT.chr11.count.bw\n"
     ]
    },
    {
     "name": "stdout",
     "output_type": "stream",
     "text": [
      "content {'uuid': 'XwoZLR45QM6rInQNS6GdYA', 'datafile': 'http://mitra.stanford.edu/kundaje/surag/dynseq/beta_globin/K562.DNase.ENCSR000EOT.chr11.count.bw', 'indexfile': None, 'filetype': '', 'datatype': 'vector', 'name': 'K562.DNase.ENCSR000EOT.chr11.count.bw', 'coordSystem': '', 'coordSystem2': '', 'created': '2021-10-02T03:22:49.372293Z', 'tags': [{'name': 'datatype:vector', 'description': ''}, {'name': 'filetype:bigwig', 'description': ''}], 'hidden': False, 'project': 'J5kSddHoT5usdIwH3Jeujw', 'description': '', 'filesize': 0}\n"
     ]
    },
    {
     "name": "stderr",
     "output_type": "stream",
     "text": [
      "INFO:resgen:Syncing dataset: http://mitra.stanford.edu/kundaje/surag/dynseq/beta_globin/K562.DNase.ENCSR000EOT.chr11.profile.bw\n"
     ]
    },
    {
     "name": "stdout",
     "output_type": "stream",
     "text": [
      "url https://resgen.io/api/v1/list_tilesets/?limit=1000&&ui=J5kSddHoT5usdIwH3Jeujw&df=K562.DNase.ENCSR000EOT.chr11.profile.bw&ac=&limit=1000\n"
     ]
    },
    {
     "name": "stderr",
     "output_type": "stream",
     "text": [
      "INFO:resgen:Adding link dataset: http://mitra.stanford.edu/kundaje/surag/dynseq/beta_globin/K562.DNase.ENCSR000EOT.chr11.profile.bw\n"
     ]
    },
    {
     "name": "stdout",
     "output_type": "stream",
     "text": [
      "content {'uuid': 'Gynm3WWcR_uXN7g5EG5u0g', 'datafile': 'http://mitra.stanford.edu/kundaje/surag/dynseq/beta_globin/K562.DNase.ENCSR000EOT.chr11.profile.bw', 'indexfile': None, 'filetype': '', 'datatype': 'vector', 'name': 'K562.DNase.ENCSR000EOT.chr11.profile.bw', 'coordSystem': '', 'coordSystem2': '', 'created': '2021-10-02T03:22:52.487078Z', 'tags': [{'name': 'datatype:vector', 'description': ''}, {'name': 'filetype:bigwig', 'description': ''}], 'hidden': False, 'project': 'J5kSddHoT5usdIwH3Jeujw', 'description': '', 'filesize': 0}\n"
     ]
    },
    {
     "name": "stderr",
     "output_type": "stream",
     "text": [
      "INFO:resgen:Syncing dataset: http://mitra.stanford.edu/kundaje/surag/dynseq/beta_globin/NFE2.K562.ENCSR000FCC.profile.bw\n"
     ]
    },
    {
     "name": "stdout",
     "output_type": "stream",
     "text": [
      "url https://resgen.io/api/v1/list_tilesets/?limit=1000&&ui=J5kSddHoT5usdIwH3Jeujw&df=NFE2.K562.ENCSR000FCC.profile.bw&ac=&limit=1000\n"
     ]
    },
    {
     "name": "stderr",
     "output_type": "stream",
     "text": [
      "INFO:resgen:Adding link dataset: http://mitra.stanford.edu/kundaje/surag/dynseq/beta_globin/NFE2.K562.ENCSR000FCC.profile.bw\n"
     ]
    },
    {
     "name": "stdout",
     "output_type": "stream",
     "text": [
      "content {'uuid': 'PoduRynLSNuxqyo10kO8Mw', 'datafile': 'http://mitra.stanford.edu/kundaje/surag/dynseq/beta_globin/NFE2.K562.ENCSR000FCC.profile.bw', 'indexfile': None, 'filetype': '', 'datatype': 'vector', 'name': 'NFE2.K562.ENCSR000FCC.profile.bw', 'coordSystem': '', 'coordSystem2': '', 'created': '2021-10-02T03:22:55.769621Z', 'tags': [{'name': 'datatype:vector', 'description': ''}, {'name': 'filetype:bigwig', 'description': ''}], 'hidden': False, 'project': 'J5kSddHoT5usdIwH3Jeujw', 'description': '', 'filesize': 0}\n"
     ]
    },
    {
     "name": "stderr",
     "output_type": "stream",
     "text": [
      "INFO:resgen:Syncing dataset: http://mitra.stanford.edu/kundaje/surag/dynseq/beta_globin/TAL1.K562.ENCSR000EHB.chr11.counts.bw\n"
     ]
    },
    {
     "name": "stdout",
     "output_type": "stream",
     "text": [
      "url https://resgen.io/api/v1/list_tilesets/?limit=1000&&ui=J5kSddHoT5usdIwH3Jeujw&df=TAL1.K562.ENCSR000EHB.chr11.counts.bw&ac=&limit=1000\n"
     ]
    },
    {
     "name": "stderr",
     "output_type": "stream",
     "text": [
      "INFO:resgen:Adding link dataset: http://mitra.stanford.edu/kundaje/surag/dynseq/beta_globin/TAL1.K562.ENCSR000EHB.chr11.counts.bw\n"
     ]
    },
    {
     "name": "stdout",
     "output_type": "stream",
     "text": [
      "content {'uuid': 'AKGMhV9aSqqp7-VKkLL2AA', 'datafile': 'http://mitra.stanford.edu/kundaje/surag/dynseq/beta_globin/TAL1.K562.ENCSR000EHB.chr11.counts.bw', 'indexfile': None, 'filetype': '', 'datatype': 'vector', 'name': 'TAL1.K562.ENCSR000EHB.chr11.counts.bw', 'coordSystem': '', 'coordSystem2': '', 'created': '2021-10-02T03:22:59.262006Z', 'tags': [{'name': 'datatype:vector', 'description': ''}, {'name': 'filetype:bigwig', 'description': ''}], 'hidden': False, 'project': 'J5kSddHoT5usdIwH3Jeujw', 'description': '', 'filesize': 0}\n"
     ]
    },
    {
     "name": "stderr",
     "output_type": "stream",
     "text": [
      "INFO:resgen:Syncing dataset: http://mitra.stanford.edu/kundaje/surag/dynseq/beta_globin/TAL1.K562.ENCSR000EHB.profile.bw\n"
     ]
    },
    {
     "name": "stdout",
     "output_type": "stream",
     "text": [
      "url https://resgen.io/api/v1/list_tilesets/?limit=1000&&ui=J5kSddHoT5usdIwH3Jeujw&df=TAL1.K562.ENCSR000EHB.profile.bw&ac=&limit=1000\n"
     ]
    },
    {
     "name": "stderr",
     "output_type": "stream",
     "text": [
      "INFO:resgen:Adding link dataset: http://mitra.stanford.edu/kundaje/surag/dynseq/beta_globin/TAL1.K562.ENCSR000EHB.profile.bw\n"
     ]
    },
    {
     "name": "stdout",
     "output_type": "stream",
     "text": [
      "content {'uuid': 'KzMOE-6ORSGMZqLOKKH7KQ', 'datafile': 'http://mitra.stanford.edu/kundaje/surag/dynseq/beta_globin/TAL1.K562.ENCSR000EHB.profile.bw', 'indexfile': None, 'filetype': '', 'datatype': 'vector', 'name': 'TAL1.K562.ENCSR000EHB.profile.bw', 'coordSystem': '', 'coordSystem2': '', 'created': '2021-10-02T03:23:02.543587Z', 'tags': [{'name': 'datatype:vector', 'description': ''}, {'name': 'filetype:bigwig', 'description': ''}], 'hidden': False, 'project': 'J5kSddHoT5usdIwH3Jeujw', 'description': '', 'filesize': 0}\n"
     ]
    },
    {
     "name": "stderr",
     "output_type": "stream",
     "text": [
      "INFO:resgen:Syncing dataset: http://mitra.stanford.edu/kundaje/surag/dynseq/beta_globin/USF1.K562.ENCSR000BKT.chr11.counts.bw\n"
     ]
    },
    {
     "name": "stdout",
     "output_type": "stream",
     "text": [
      "url https://resgen.io/api/v1/list_tilesets/?limit=1000&&ui=J5kSddHoT5usdIwH3Jeujw&df=USF1.K562.ENCSR000BKT.chr11.counts.bw&ac=&limit=1000\n"
     ]
    },
    {
     "name": "stderr",
     "output_type": "stream",
     "text": [
      "INFO:resgen:Adding link dataset: http://mitra.stanford.edu/kundaje/surag/dynseq/beta_globin/USF1.K562.ENCSR000BKT.chr11.counts.bw\n"
     ]
    },
    {
     "name": "stdout",
     "output_type": "stream",
     "text": [
      "content {'uuid': 'CwaGVjFIQliHTGdjFz9O4Q', 'datafile': 'http://mitra.stanford.edu/kundaje/surag/dynseq/beta_globin/USF1.K562.ENCSR000BKT.chr11.counts.bw', 'indexfile': None, 'filetype': '', 'datatype': 'vector', 'name': 'USF1.K562.ENCSR000BKT.chr11.counts.bw', 'coordSystem': '', 'coordSystem2': '', 'created': '2021-10-02T03:23:05.754662Z', 'tags': [{'name': 'datatype:vector', 'description': ''}, {'name': 'filetype:bigwig', 'description': ''}], 'hidden': False, 'project': 'J5kSddHoT5usdIwH3Jeujw', 'description': '', 'filesize': 0}\n"
     ]
    },
    {
     "name": "stderr",
     "output_type": "stream",
     "text": [
      "INFO:resgen:Syncing dataset: http://mitra.stanford.edu/kundaje/surag/dynseq/beta_globin/USF1.K562.ENCSR000BKT.profile.bw\n"
     ]
    },
    {
     "name": "stdout",
     "output_type": "stream",
     "text": [
      "url https://resgen.io/api/v1/list_tilesets/?limit=1000&&ui=J5kSddHoT5usdIwH3Jeujw&df=USF1.K562.ENCSR000BKT.profile.bw&ac=&limit=1000\n"
     ]
    },
    {
     "name": "stderr",
     "output_type": "stream",
     "text": [
      "INFO:resgen:Adding link dataset: http://mitra.stanford.edu/kundaje/surag/dynseq/beta_globin/USF1.K562.ENCSR000BKT.profile.bw\n"
     ]
    },
    {
     "name": "stdout",
     "output_type": "stream",
     "text": [
      "content {'uuid': 'PJRdrbVsR1ehSvypGO7mvA', 'datafile': 'http://mitra.stanford.edu/kundaje/surag/dynseq/beta_globin/USF1.K562.ENCSR000BKT.profile.bw', 'indexfile': None, 'filetype': '', 'datatype': 'vector', 'name': 'USF1.K562.ENCSR000BKT.profile.bw', 'coordSystem': '', 'coordSystem2': '', 'created': '2021-10-02T03:23:09.057148Z', 'tags': [{'name': 'datatype:vector', 'description': ''}, {'name': 'filetype:bigwig', 'description': ''}], 'hidden': False, 'project': 'J5kSddHoT5usdIwH3Jeujw', 'description': '', 'filesize': 0}\n"
     ]
    },
    {
     "name": "stderr",
     "output_type": "stream",
     "text": [
      "INFO:resgen:Syncing dataset: http://mitra.stanford.edu/kundaje/surag/dynseq/beta_globin/observed_bigWigs/GATA1.K562.ENCSR000EFT_minus.bigWig\n"
     ]
    },
    {
     "name": "stdout",
     "output_type": "stream",
     "text": [
      "url https://resgen.io/api/v1/list_tilesets/?limit=1000&&ui=J5kSddHoT5usdIwH3Jeujw&df=GATA1.K562.ENCSR000EFT_minus.bigWig&ac=&limit=1000\n"
     ]
    },
    {
     "name": "stderr",
     "output_type": "stream",
     "text": [
      "INFO:resgen:Adding link dataset: http://mitra.stanford.edu/kundaje/surag/dynseq/beta_globin/observed_bigWigs/GATA1.K562.ENCSR000EFT_minus.bigWig\n"
     ]
    },
    {
     "name": "stdout",
     "output_type": "stream",
     "text": [
      "content {'uuid': 'DeGp6aNtSNihFGR8m5d-ZQ', 'datafile': 'http://mitra.stanford.edu/kundaje/surag/dynseq/beta_globin/observed_bigWigs/GATA1.K562.ENCSR000EFT_minus.bigWig', 'indexfile': None, 'filetype': '', 'datatype': 'unknown', 'name': 'GATA1.K562.ENCSR000EFT_minus.bigWig', 'coordSystem': '', 'coordSystem2': '', 'created': '2021-10-02T03:23:12.239758Z', 'tags': [], 'hidden': False, 'project': 'J5kSddHoT5usdIwH3Jeujw', 'description': '', 'filesize': 0}\n"
     ]
    },
    {
     "name": "stderr",
     "output_type": "stream",
     "text": [
      "INFO:resgen:Syncing dataset: http://mitra.stanford.edu/kundaje/surag/dynseq/beta_globin/observed_bigWigs/GATA1.K562.ENCSR000EFT_plus.bigWig\n"
     ]
    },
    {
     "name": "stdout",
     "output_type": "stream",
     "text": [
      "url https://resgen.io/api/v1/list_tilesets/?limit=1000&&ui=J5kSddHoT5usdIwH3Jeujw&df=GATA1.K562.ENCSR000EFT_plus.bigWig&ac=&limit=1000\n"
     ]
    },
    {
     "name": "stderr",
     "output_type": "stream",
     "text": [
      "INFO:resgen:Adding link dataset: http://mitra.stanford.edu/kundaje/surag/dynseq/beta_globin/observed_bigWigs/GATA1.K562.ENCSR000EFT_plus.bigWig\n"
     ]
    },
    {
     "name": "stdout",
     "output_type": "stream",
     "text": [
      "content {'uuid': 'WnkL3ekWS_S4I3Q-s-ESHA', 'datafile': 'http://mitra.stanford.edu/kundaje/surag/dynseq/beta_globin/observed_bigWigs/GATA1.K562.ENCSR000EFT_plus.bigWig', 'indexfile': None, 'filetype': '', 'datatype': 'unknown', 'name': 'GATA1.K562.ENCSR000EFT_plus.bigWig', 'coordSystem': '', 'coordSystem2': '', 'created': '2021-10-02T03:23:15.564847Z', 'tags': [], 'hidden': False, 'project': 'J5kSddHoT5usdIwH3Jeujw', 'description': '', 'filesize': 0}\n"
     ]
    },
    {
     "name": "stderr",
     "output_type": "stream",
     "text": [
      "INFO:resgen:Syncing dataset: http://mitra.stanford.edu/kundaje/surag/dynseq/beta_globin/observed_bigWigs/GATA2.K562.ENCSR000BKM_minus.bigWig\n"
     ]
    },
    {
     "name": "stdout",
     "output_type": "stream",
     "text": [
      "url https://resgen.io/api/v1/list_tilesets/?limit=1000&&ui=J5kSddHoT5usdIwH3Jeujw&df=GATA2.K562.ENCSR000BKM_minus.bigWig&ac=&limit=1000\n"
     ]
    },
    {
     "name": "stderr",
     "output_type": "stream",
     "text": [
      "INFO:resgen:Adding link dataset: http://mitra.stanford.edu/kundaje/surag/dynseq/beta_globin/observed_bigWigs/GATA2.K562.ENCSR000BKM_minus.bigWig\n"
     ]
    },
    {
     "name": "stdout",
     "output_type": "stream",
     "text": [
      "content {'uuid': 'UCFcBgFsT3iqgGrqvKngOw', 'datafile': 'http://mitra.stanford.edu/kundaje/surag/dynseq/beta_globin/observed_bigWigs/GATA2.K562.ENCSR000BKM_minus.bigWig', 'indexfile': None, 'filetype': '', 'datatype': 'unknown', 'name': 'GATA2.K562.ENCSR000BKM_minus.bigWig', 'coordSystem': '', 'coordSystem2': '', 'created': '2021-10-02T03:23:18.782678Z', 'tags': [], 'hidden': False, 'project': 'J5kSddHoT5usdIwH3Jeujw', 'description': '', 'filesize': 0}\n"
     ]
    },
    {
     "name": "stderr",
     "output_type": "stream",
     "text": [
      "INFO:resgen:Syncing dataset: http://mitra.stanford.edu/kundaje/surag/dynseq/beta_globin/observed_bigWigs/GATA2.K562.ENCSR000BKM_plus.bigWig\n"
     ]
    },
    {
     "name": "stdout",
     "output_type": "stream",
     "text": [
      "url https://resgen.io/api/v1/list_tilesets/?limit=1000&&ui=J5kSddHoT5usdIwH3Jeujw&df=GATA2.K562.ENCSR000BKM_plus.bigWig&ac=&limit=1000\n"
     ]
    },
    {
     "name": "stderr",
     "output_type": "stream",
     "text": [
      "INFO:resgen:Adding link dataset: http://mitra.stanford.edu/kundaje/surag/dynseq/beta_globin/observed_bigWigs/GATA2.K562.ENCSR000BKM_plus.bigWig\n"
     ]
    },
    {
     "name": "stdout",
     "output_type": "stream",
     "text": [
      "content {'uuid': 'BOBZBY4xRySfdjXz3mLxIg', 'datafile': 'http://mitra.stanford.edu/kundaje/surag/dynseq/beta_globin/observed_bigWigs/GATA2.K562.ENCSR000BKM_plus.bigWig', 'indexfile': None, 'filetype': '', 'datatype': 'unknown', 'name': 'GATA2.K562.ENCSR000BKM_plus.bigWig', 'coordSystem': '', 'coordSystem2': '', 'created': '2021-10-02T03:23:22.067776Z', 'tags': [], 'hidden': False, 'project': 'J5kSddHoT5usdIwH3Jeujw', 'description': '', 'filesize': 0}\n"
     ]
    },
    {
     "name": "stderr",
     "output_type": "stream",
     "text": [
      "INFO:resgen:Syncing dataset: http://mitra.stanford.edu/kundaje/surag/dynseq/beta_globin/observed_bigWigs/K562.DNase.ENCSR000EOT.bw\n"
     ]
    },
    {
     "name": "stdout",
     "output_type": "stream",
     "text": [
      "url https://resgen.io/api/v1/list_tilesets/?limit=1000&&ui=J5kSddHoT5usdIwH3Jeujw&df=K562.DNase.ENCSR000EOT.bw&ac=&limit=1000\n"
     ]
    },
    {
     "name": "stderr",
     "output_type": "stream",
     "text": [
      "INFO:resgen:Adding link dataset: http://mitra.stanford.edu/kundaje/surag/dynseq/beta_globin/observed_bigWigs/K562.DNase.ENCSR000EOT.bw\n"
     ]
    },
    {
     "name": "stdout",
     "output_type": "stream",
     "text": [
      "content {'uuid': 'AHlBwQt6SGWeNOT7RgBtYA', 'datafile': 'http://mitra.stanford.edu/kundaje/surag/dynseq/beta_globin/observed_bigWigs/K562.DNase.ENCSR000EOT.bw', 'indexfile': None, 'filetype': '', 'datatype': 'vector', 'name': 'K562.DNase.ENCSR000EOT.bw', 'coordSystem': '', 'coordSystem2': '', 'created': '2021-10-02T03:23:25.260641Z', 'tags': [{'name': 'datatype:vector', 'description': ''}, {'name': 'filetype:bigwig', 'description': ''}], 'hidden': False, 'project': 'J5kSddHoT5usdIwH3Jeujw', 'description': '', 'filesize': 0}\n"
     ]
    },
    {
     "name": "stderr",
     "output_type": "stream",
     "text": [
      "INFO:resgen:Syncing dataset: http://mitra.stanford.edu/kundaje/surag/dynseq/beta_globin/observed_bigWigs/NFE2.K562.ENCSR000FCC_minus.bigWig\n"
     ]
    },
    {
     "name": "stdout",
     "output_type": "stream",
     "text": [
      "url https://resgen.io/api/v1/list_tilesets/?limit=1000&&ui=J5kSddHoT5usdIwH3Jeujw&df=NFE2.K562.ENCSR000FCC_minus.bigWig&ac=&limit=1000\n"
     ]
    },
    {
     "name": "stderr",
     "output_type": "stream",
     "text": [
      "INFO:resgen:Adding link dataset: http://mitra.stanford.edu/kundaje/surag/dynseq/beta_globin/observed_bigWigs/NFE2.K562.ENCSR000FCC_minus.bigWig\n"
     ]
    },
    {
     "name": "stdout",
     "output_type": "stream",
     "text": [
      "content {'uuid': 'CSGR-dD6RHqH8MTzyjHEmg', 'datafile': 'http://mitra.stanford.edu/kundaje/surag/dynseq/beta_globin/observed_bigWigs/NFE2.K562.ENCSR000FCC_minus.bigWig', 'indexfile': None, 'filetype': '', 'datatype': 'unknown', 'name': 'NFE2.K562.ENCSR000FCC_minus.bigWig', 'coordSystem': '', 'coordSystem2': '', 'created': '2021-10-02T03:23:28.686934Z', 'tags': [], 'hidden': False, 'project': 'J5kSddHoT5usdIwH3Jeujw', 'description': '', 'filesize': 0}\n"
     ]
    },
    {
     "name": "stderr",
     "output_type": "stream",
     "text": [
      "INFO:resgen:Syncing dataset: http://mitra.stanford.edu/kundaje/surag/dynseq/beta_globin/observed_bigWigs/NFE2.K562.ENCSR000FCC_plus.bigWig\n"
     ]
    },
    {
     "name": "stdout",
     "output_type": "stream",
     "text": [
      "url https://resgen.io/api/v1/list_tilesets/?limit=1000&&ui=J5kSddHoT5usdIwH3Jeujw&df=NFE2.K562.ENCSR000FCC_plus.bigWig&ac=&limit=1000\n"
     ]
    },
    {
     "name": "stderr",
     "output_type": "stream",
     "text": [
      "INFO:resgen:Adding link dataset: http://mitra.stanford.edu/kundaje/surag/dynseq/beta_globin/observed_bigWigs/NFE2.K562.ENCSR000FCC_plus.bigWig\n"
     ]
    },
    {
     "name": "stdout",
     "output_type": "stream",
     "text": [
      "content {'uuid': 'Ya8uziWJT6qF3nFPinp1mA', 'datafile': 'http://mitra.stanford.edu/kundaje/surag/dynseq/beta_globin/observed_bigWigs/NFE2.K562.ENCSR000FCC_plus.bigWig', 'indexfile': None, 'filetype': '', 'datatype': 'unknown', 'name': 'NFE2.K562.ENCSR000FCC_plus.bigWig', 'coordSystem': '', 'coordSystem2': '', 'created': '2021-10-02T03:23:31.852648Z', 'tags': [], 'hidden': False, 'project': 'J5kSddHoT5usdIwH3Jeujw', 'description': '', 'filesize': 0}\n"
     ]
    },
    {
     "name": "stderr",
     "output_type": "stream",
     "text": [
      "INFO:resgen:Syncing dataset: http://mitra.stanford.edu/kundaje/surag/dynseq/beta_globin/observed_bigWigs/TAL1.K562.ENCSR000EHB_minus.bigWig\n"
     ]
    },
    {
     "name": "stdout",
     "output_type": "stream",
     "text": [
      "url https://resgen.io/api/v1/list_tilesets/?limit=1000&&ui=J5kSddHoT5usdIwH3Jeujw&df=TAL1.K562.ENCSR000EHB_minus.bigWig&ac=&limit=1000\n"
     ]
    },
    {
     "name": "stderr",
     "output_type": "stream",
     "text": [
      "INFO:resgen:Adding link dataset: http://mitra.stanford.edu/kundaje/surag/dynseq/beta_globin/observed_bigWigs/TAL1.K562.ENCSR000EHB_minus.bigWig\n"
     ]
    },
    {
     "name": "stdout",
     "output_type": "stream",
     "text": [
      "content {'uuid': 'VVpalikASYi1VtuVd8UXgg', 'datafile': 'http://mitra.stanford.edu/kundaje/surag/dynseq/beta_globin/observed_bigWigs/TAL1.K562.ENCSR000EHB_minus.bigWig', 'indexfile': None, 'filetype': '', 'datatype': 'unknown', 'name': 'TAL1.K562.ENCSR000EHB_minus.bigWig', 'coordSystem': '', 'coordSystem2': '', 'created': '2021-10-02T03:23:35.014914Z', 'tags': [], 'hidden': False, 'project': 'J5kSddHoT5usdIwH3Jeujw', 'description': '', 'filesize': 0}\n"
     ]
    },
    {
     "name": "stderr",
     "output_type": "stream",
     "text": [
      "INFO:resgen:Syncing dataset: http://mitra.stanford.edu/kundaje/surag/dynseq/beta_globin/observed_bigWigs/TAL1.K562.ENCSR000EHB_plus.bigWig\n"
     ]
    },
    {
     "name": "stdout",
     "output_type": "stream",
     "text": [
      "url https://resgen.io/api/v1/list_tilesets/?limit=1000&&ui=J5kSddHoT5usdIwH3Jeujw&df=TAL1.K562.ENCSR000EHB_plus.bigWig&ac=&limit=1000\n"
     ]
    },
    {
     "name": "stderr",
     "output_type": "stream",
     "text": [
      "INFO:resgen:Adding link dataset: http://mitra.stanford.edu/kundaje/surag/dynseq/beta_globin/observed_bigWigs/TAL1.K562.ENCSR000EHB_plus.bigWig\n"
     ]
    },
    {
     "name": "stdout",
     "output_type": "stream",
     "text": [
      "content {'uuid': 'aogaUZvqRf6p2tBSrBuC4w', 'datafile': 'http://mitra.stanford.edu/kundaje/surag/dynseq/beta_globin/observed_bigWigs/TAL1.K562.ENCSR000EHB_plus.bigWig', 'indexfile': None, 'filetype': '', 'datatype': 'unknown', 'name': 'TAL1.K562.ENCSR000EHB_plus.bigWig', 'coordSystem': '', 'coordSystem2': '', 'created': '2021-10-02T03:23:38.328476Z', 'tags': [], 'hidden': False, 'project': 'J5kSddHoT5usdIwH3Jeujw', 'description': '', 'filesize': 0}\n"
     ]
    },
    {
     "name": "stderr",
     "output_type": "stream",
     "text": [
      "INFO:resgen:Syncing dataset: http://mitra.stanford.edu/kundaje/surag/dynseq/beta_globin/observed_bigWigs/USF1.K562.ENCSR000BKT_minus.bigWig\n"
     ]
    },
    {
     "name": "stdout",
     "output_type": "stream",
     "text": [
      "url https://resgen.io/api/v1/list_tilesets/?limit=1000&&ui=J5kSddHoT5usdIwH3Jeujw&df=USF1.K562.ENCSR000BKT_minus.bigWig&ac=&limit=1000\n"
     ]
    },
    {
     "name": "stderr",
     "output_type": "stream",
     "text": [
      "INFO:resgen:Adding link dataset: http://mitra.stanford.edu/kundaje/surag/dynseq/beta_globin/observed_bigWigs/USF1.K562.ENCSR000BKT_minus.bigWig\n"
     ]
    },
    {
     "name": "stdout",
     "output_type": "stream",
     "text": [
      "content {'uuid': 'dGH0Zk4MQbe5-gR7CHnbMQ', 'datafile': 'http://mitra.stanford.edu/kundaje/surag/dynseq/beta_globin/observed_bigWigs/USF1.K562.ENCSR000BKT_minus.bigWig', 'indexfile': None, 'filetype': '', 'datatype': 'unknown', 'name': 'USF1.K562.ENCSR000BKT_minus.bigWig', 'coordSystem': '', 'coordSystem2': '', 'created': '2021-10-02T03:23:41.576201Z', 'tags': [], 'hidden': False, 'project': 'J5kSddHoT5usdIwH3Jeujw', 'description': '', 'filesize': 0}\n"
     ]
    },
    {
     "name": "stderr",
     "output_type": "stream",
     "text": [
      "INFO:resgen:Syncing dataset: http://mitra.stanford.edu/kundaje/surag/dynseq/beta_globin/observed_bigWigs/USF1.K562.ENCSR000BKT_plus.bigWig\n"
     ]
    },
    {
     "name": "stdout",
     "output_type": "stream",
     "text": [
      "url https://resgen.io/api/v1/list_tilesets/?limit=1000&&ui=J5kSddHoT5usdIwH3Jeujw&df=USF1.K562.ENCSR000BKT_plus.bigWig&ac=&limit=1000\n"
     ]
    },
    {
     "name": "stderr",
     "output_type": "stream",
     "text": [
      "INFO:resgen:Adding link dataset: http://mitra.stanford.edu/kundaje/surag/dynseq/beta_globin/observed_bigWigs/USF1.K562.ENCSR000BKT_plus.bigWig\n"
     ]
    },
    {
     "name": "stdout",
     "output_type": "stream",
     "text": [
      "content {'uuid': 'cZVie4zAQMyJ1HF6X76vrw', 'datafile': 'http://mitra.stanford.edu/kundaje/surag/dynseq/beta_globin/observed_bigWigs/USF1.K562.ENCSR000BKT_plus.bigWig', 'indexfile': None, 'filetype': '', 'datatype': 'unknown', 'name': 'USF1.K562.ENCSR000BKT_plus.bigWig', 'coordSystem': '', 'coordSystem2': '', 'created': '2021-10-02T03:23:44.784594Z', 'tags': [], 'hidden': False, 'project': 'J5kSddHoT5usdIwH3Jeujw', 'description': '', 'filesize': 0}\n"
     ]
    },
    {
     "name": "stderr",
     "output_type": "stream",
     "text": [
      "INFO:resgen:Syncing dataset: http://mitra.stanford.edu/kundaje/surag/dynseq/beta_globin/pred_bigWigs/GATA1.K562.ENCSR000EFT.minus.bw\n"
     ]
    },
    {
     "name": "stdout",
     "output_type": "stream",
     "text": [
      "url https://resgen.io/api/v1/list_tilesets/?limit=1000&&ui=J5kSddHoT5usdIwH3Jeujw&df=GATA1.K562.ENCSR000EFT.minus.bw&ac=&limit=1000\n"
     ]
    },
    {
     "name": "stderr",
     "output_type": "stream",
     "text": [
      "INFO:resgen:Adding link dataset: http://mitra.stanford.edu/kundaje/surag/dynseq/beta_globin/pred_bigWigs/GATA1.K562.ENCSR000EFT.minus.bw\n"
     ]
    },
    {
     "name": "stdout",
     "output_type": "stream",
     "text": [
      "content {'uuid': 'MLLDHdetQDeXSK5PcQSAEw', 'datafile': 'http://mitra.stanford.edu/kundaje/surag/dynseq/beta_globin/pred_bigWigs/GATA1.K562.ENCSR000EFT.minus.bw', 'indexfile': None, 'filetype': '', 'datatype': 'vector', 'name': 'GATA1.K562.ENCSR000EFT.minus.bw', 'coordSystem': '', 'coordSystem2': '', 'created': '2021-10-02T03:23:47.938546Z', 'tags': [{'name': 'datatype:vector', 'description': ''}, {'name': 'filetype:bigwig', 'description': ''}], 'hidden': False, 'project': 'J5kSddHoT5usdIwH3Jeujw', 'description': '', 'filesize': 0}\n"
     ]
    },
    {
     "name": "stderr",
     "output_type": "stream",
     "text": [
      "INFO:resgen:Syncing dataset: http://mitra.stanford.edu/kundaje/surag/dynseq/beta_globin/pred_bigWigs/GATA1.K562.ENCSR000EFT.plus.bw\n"
     ]
    },
    {
     "name": "stdout",
     "output_type": "stream",
     "text": [
      "url https://resgen.io/api/v1/list_tilesets/?limit=1000&&ui=J5kSddHoT5usdIwH3Jeujw&df=GATA1.K562.ENCSR000EFT.plus.bw&ac=&limit=1000\n"
     ]
    },
    {
     "name": "stderr",
     "output_type": "stream",
     "text": [
      "INFO:resgen:Adding link dataset: http://mitra.stanford.edu/kundaje/surag/dynseq/beta_globin/pred_bigWigs/GATA1.K562.ENCSR000EFT.plus.bw\n"
     ]
    },
    {
     "name": "stdout",
     "output_type": "stream",
     "text": [
      "content {'uuid': 'exVo_6LlRSSAJKlnueq0DQ', 'datafile': 'http://mitra.stanford.edu/kundaje/surag/dynseq/beta_globin/pred_bigWigs/GATA1.K562.ENCSR000EFT.plus.bw', 'indexfile': None, 'filetype': '', 'datatype': 'vector', 'name': 'GATA1.K562.ENCSR000EFT.plus.bw', 'coordSystem': '', 'coordSystem2': '', 'created': '2021-10-02T03:23:51.167383Z', 'tags': [{'name': 'datatype:vector', 'description': ''}, {'name': 'filetype:bigwig', 'description': ''}], 'hidden': False, 'project': 'J5kSddHoT5usdIwH3Jeujw', 'description': '', 'filesize': 0}\n"
     ]
    },
    {
     "name": "stderr",
     "output_type": "stream",
     "text": [
      "INFO:resgen:Syncing dataset: http://mitra.stanford.edu/kundaje/surag/dynseq/beta_globin/pred_bigWigs/GATA2.K562.ENCSR000BKM.minus.bw\n"
     ]
    },
    {
     "name": "stdout",
     "output_type": "stream",
     "text": [
      "url https://resgen.io/api/v1/list_tilesets/?limit=1000&&ui=J5kSddHoT5usdIwH3Jeujw&df=GATA2.K562.ENCSR000BKM.minus.bw&ac=&limit=1000\n"
     ]
    },
    {
     "name": "stderr",
     "output_type": "stream",
     "text": [
      "INFO:resgen:Adding link dataset: http://mitra.stanford.edu/kundaje/surag/dynseq/beta_globin/pred_bigWigs/GATA2.K562.ENCSR000BKM.minus.bw\n"
     ]
    },
    {
     "name": "stdout",
     "output_type": "stream",
     "text": [
      "content {'uuid': 'GMkTm3FCTMGzCTHm8Mulrw', 'datafile': 'http://mitra.stanford.edu/kundaje/surag/dynseq/beta_globin/pred_bigWigs/GATA2.K562.ENCSR000BKM.minus.bw', 'indexfile': None, 'filetype': '', 'datatype': 'vector', 'name': 'GATA2.K562.ENCSR000BKM.minus.bw', 'coordSystem': '', 'coordSystem2': '', 'created': '2021-10-02T03:23:54.494395Z', 'tags': [{'name': 'datatype:vector', 'description': ''}, {'name': 'filetype:bigwig', 'description': ''}], 'hidden': False, 'project': 'J5kSddHoT5usdIwH3Jeujw', 'description': '', 'filesize': 0}\n"
     ]
    },
    {
     "name": "stderr",
     "output_type": "stream",
     "text": [
      "INFO:resgen:Syncing dataset: http://mitra.stanford.edu/kundaje/surag/dynseq/beta_globin/pred_bigWigs/GATA2.K562.ENCSR000BKM.plus.bw\n"
     ]
    },
    {
     "name": "stdout",
     "output_type": "stream",
     "text": [
      "url https://resgen.io/api/v1/list_tilesets/?limit=1000&&ui=J5kSddHoT5usdIwH3Jeujw&df=GATA2.K562.ENCSR000BKM.plus.bw&ac=&limit=1000\n"
     ]
    },
    {
     "name": "stderr",
     "output_type": "stream",
     "text": [
      "INFO:resgen:Adding link dataset: http://mitra.stanford.edu/kundaje/surag/dynseq/beta_globin/pred_bigWigs/GATA2.K562.ENCSR000BKM.plus.bw\n"
     ]
    },
    {
     "name": "stdout",
     "output_type": "stream",
     "text": [
      "content {'uuid': 'J7Kxj_h4SoiBkLODWPjtWA', 'datafile': 'http://mitra.stanford.edu/kundaje/surag/dynseq/beta_globin/pred_bigWigs/GATA2.K562.ENCSR000BKM.plus.bw', 'indexfile': None, 'filetype': '', 'datatype': 'vector', 'name': 'GATA2.K562.ENCSR000BKM.plus.bw', 'coordSystem': '', 'coordSystem2': '', 'created': '2021-10-02T03:23:57.777224Z', 'tags': [{'name': 'datatype:vector', 'description': ''}, {'name': 'filetype:bigwig', 'description': ''}], 'hidden': False, 'project': 'J5kSddHoT5usdIwH3Jeujw', 'description': '', 'filesize': 0}\n"
     ]
    },
    {
     "name": "stderr",
     "output_type": "stream",
     "text": [
      "INFO:resgen:Syncing dataset: http://mitra.stanford.edu/kundaje/surag/dynseq/beta_globin/pred_bigWigs/K562.DNase.ENCSR000EOT.chr11.pred.bw\n"
     ]
    },
    {
     "name": "stdout",
     "output_type": "stream",
     "text": [
      "url https://resgen.io/api/v1/list_tilesets/?limit=1000&&ui=J5kSddHoT5usdIwH3Jeujw&df=K562.DNase.ENCSR000EOT.chr11.pred.bw&ac=&limit=1000\n"
     ]
    },
    {
     "name": "stderr",
     "output_type": "stream",
     "text": [
      "INFO:resgen:Adding link dataset: http://mitra.stanford.edu/kundaje/surag/dynseq/beta_globin/pred_bigWigs/K562.DNase.ENCSR000EOT.chr11.pred.bw\n"
     ]
    },
    {
     "name": "stdout",
     "output_type": "stream",
     "text": [
      "content {'uuid': 'RSsqkoMvRf2t9Wfs2G7Hsg', 'datafile': 'http://mitra.stanford.edu/kundaje/surag/dynseq/beta_globin/pred_bigWigs/K562.DNase.ENCSR000EOT.chr11.pred.bw', 'indexfile': None, 'filetype': '', 'datatype': 'vector', 'name': 'K562.DNase.ENCSR000EOT.chr11.pred.bw', 'coordSystem': '', 'coordSystem2': '', 'created': '2021-10-02T03:24:01.114218Z', 'tags': [{'name': 'datatype:vector', 'description': ''}, {'name': 'filetype:bigwig', 'description': ''}], 'hidden': False, 'project': 'J5kSddHoT5usdIwH3Jeujw', 'description': '', 'filesize': 0}\n"
     ]
    },
    {
     "name": "stderr",
     "output_type": "stream",
     "text": [
      "INFO:resgen:Syncing dataset: http://mitra.stanford.edu/kundaje/surag/dynseq/beta_globin/pred_bigWigs/NFE2.K562.ENCSR000FCC.minus.bw\n"
     ]
    },
    {
     "name": "stdout",
     "output_type": "stream",
     "text": [
      "url https://resgen.io/api/v1/list_tilesets/?limit=1000&&ui=J5kSddHoT5usdIwH3Jeujw&df=NFE2.K562.ENCSR000FCC.minus.bw&ac=&limit=1000\n"
     ]
    },
    {
     "name": "stderr",
     "output_type": "stream",
     "text": [
      "INFO:resgen:Adding link dataset: http://mitra.stanford.edu/kundaje/surag/dynseq/beta_globin/pred_bigWigs/NFE2.K562.ENCSR000FCC.minus.bw\n"
     ]
    },
    {
     "name": "stdout",
     "output_type": "stream",
     "text": [
      "content {'uuid': 'UN9IlCF3S3iarXRwp6xXwQ', 'datafile': 'http://mitra.stanford.edu/kundaje/surag/dynseq/beta_globin/pred_bigWigs/NFE2.K562.ENCSR000FCC.minus.bw', 'indexfile': None, 'filetype': '', 'datatype': 'vector', 'name': 'NFE2.K562.ENCSR000FCC.minus.bw', 'coordSystem': '', 'coordSystem2': '', 'created': '2021-10-02T03:24:04.619551Z', 'tags': [{'name': 'datatype:vector', 'description': ''}, {'name': 'filetype:bigwig', 'description': ''}], 'hidden': False, 'project': 'J5kSddHoT5usdIwH3Jeujw', 'description': '', 'filesize': 0}\n"
     ]
    },
    {
     "name": "stderr",
     "output_type": "stream",
     "text": [
      "INFO:resgen:Syncing dataset: http://mitra.stanford.edu/kundaje/surag/dynseq/beta_globin/pred_bigWigs/NFE2.K562.ENCSR000FCC.plus.bw\n"
     ]
    },
    {
     "name": "stdout",
     "output_type": "stream",
     "text": [
      "url https://resgen.io/api/v1/list_tilesets/?limit=1000&&ui=J5kSddHoT5usdIwH3Jeujw&df=NFE2.K562.ENCSR000FCC.plus.bw&ac=&limit=1000\n"
     ]
    },
    {
     "name": "stderr",
     "output_type": "stream",
     "text": [
      "INFO:resgen:Adding link dataset: http://mitra.stanford.edu/kundaje/surag/dynseq/beta_globin/pred_bigWigs/NFE2.K562.ENCSR000FCC.plus.bw\n"
     ]
    },
    {
     "name": "stdout",
     "output_type": "stream",
     "text": [
      "content {'uuid': 'EVsjKbcCQi-bftutB6-Oyw', 'datafile': 'http://mitra.stanford.edu/kundaje/surag/dynseq/beta_globin/pred_bigWigs/NFE2.K562.ENCSR000FCC.plus.bw', 'indexfile': None, 'filetype': '', 'datatype': 'vector', 'name': 'NFE2.K562.ENCSR000FCC.plus.bw', 'coordSystem': '', 'coordSystem2': '', 'created': '2021-10-02T03:24:07.857471Z', 'tags': [{'name': 'datatype:vector', 'description': ''}, {'name': 'filetype:bigwig', 'description': ''}], 'hidden': False, 'project': 'J5kSddHoT5usdIwH3Jeujw', 'description': '', 'filesize': 0}\n"
     ]
    },
    {
     "name": "stderr",
     "output_type": "stream",
     "text": [
      "INFO:resgen:Syncing dataset: http://mitra.stanford.edu/kundaje/surag/dynseq/beta_globin/pred_bigWigs/TAL1.K562.ENCSR000EHB.minus.bw\n"
     ]
    },
    {
     "name": "stdout",
     "output_type": "stream",
     "text": [
      "url https://resgen.io/api/v1/list_tilesets/?limit=1000&&ui=J5kSddHoT5usdIwH3Jeujw&df=TAL1.K562.ENCSR000EHB.minus.bw&ac=&limit=1000\n"
     ]
    },
    {
     "name": "stderr",
     "output_type": "stream",
     "text": [
      "INFO:resgen:Adding link dataset: http://mitra.stanford.edu/kundaje/surag/dynseq/beta_globin/pred_bigWigs/TAL1.K562.ENCSR000EHB.minus.bw\n"
     ]
    },
    {
     "name": "stdout",
     "output_type": "stream",
     "text": [
      "content {'uuid': 'Tfy7Qt77RTGTQjnjVzZhZA', 'datafile': 'http://mitra.stanford.edu/kundaje/surag/dynseq/beta_globin/pred_bigWigs/TAL1.K562.ENCSR000EHB.minus.bw', 'indexfile': None, 'filetype': '', 'datatype': 'vector', 'name': 'TAL1.K562.ENCSR000EHB.minus.bw', 'coordSystem': '', 'coordSystem2': '', 'created': '2021-10-02T03:24:11.109888Z', 'tags': [{'name': 'datatype:vector', 'description': ''}, {'name': 'filetype:bigwig', 'description': ''}], 'hidden': False, 'project': 'J5kSddHoT5usdIwH3Jeujw', 'description': '', 'filesize': 0}\n"
     ]
    },
    {
     "name": "stderr",
     "output_type": "stream",
     "text": [
      "INFO:resgen:Syncing dataset: http://mitra.stanford.edu/kundaje/surag/dynseq/beta_globin/pred_bigWigs/TAL1.K562.ENCSR000EHB.plus.bw\n"
     ]
    },
    {
     "name": "stdout",
     "output_type": "stream",
     "text": [
      "url https://resgen.io/api/v1/list_tilesets/?limit=1000&&ui=J5kSddHoT5usdIwH3Jeujw&df=TAL1.K562.ENCSR000EHB.plus.bw&ac=&limit=1000\n"
     ]
    },
    {
     "name": "stderr",
     "output_type": "stream",
     "text": [
      "INFO:resgen:Adding link dataset: http://mitra.stanford.edu/kundaje/surag/dynseq/beta_globin/pred_bigWigs/TAL1.K562.ENCSR000EHB.plus.bw\n"
     ]
    },
    {
     "name": "stdout",
     "output_type": "stream",
     "text": [
      "content {'uuid': 'Rk02guQ_T2qFy2Z9bXPZ5g', 'datafile': 'http://mitra.stanford.edu/kundaje/surag/dynseq/beta_globin/pred_bigWigs/TAL1.K562.ENCSR000EHB.plus.bw', 'indexfile': None, 'filetype': '', 'datatype': 'vector', 'name': 'TAL1.K562.ENCSR000EHB.plus.bw', 'coordSystem': '', 'coordSystem2': '', 'created': '2021-10-02T03:24:14.251179Z', 'tags': [{'name': 'datatype:vector', 'description': ''}, {'name': 'filetype:bigwig', 'description': ''}], 'hidden': False, 'project': 'J5kSddHoT5usdIwH3Jeujw', 'description': '', 'filesize': 0}\n"
     ]
    },
    {
     "name": "stderr",
     "output_type": "stream",
     "text": [
      "INFO:resgen:Syncing dataset: http://mitra.stanford.edu/kundaje/surag/dynseq/beta_globin/pred_bigWigs/USF1.K562.ENCSR000BKT.minus.bw\n"
     ]
    },
    {
     "name": "stdout",
     "output_type": "stream",
     "text": [
      "url https://resgen.io/api/v1/list_tilesets/?limit=1000&&ui=J5kSddHoT5usdIwH3Jeujw&df=USF1.K562.ENCSR000BKT.minus.bw&ac=&limit=1000\n"
     ]
    },
    {
     "name": "stderr",
     "output_type": "stream",
     "text": [
      "INFO:resgen:Adding link dataset: http://mitra.stanford.edu/kundaje/surag/dynseq/beta_globin/pred_bigWigs/USF1.K562.ENCSR000BKT.minus.bw\n"
     ]
    },
    {
     "name": "stdout",
     "output_type": "stream",
     "text": [
      "content {'uuid': 'bILQnYjIR-S4PnmPSqrnKA', 'datafile': 'http://mitra.stanford.edu/kundaje/surag/dynseq/beta_globin/pred_bigWigs/USF1.K562.ENCSR000BKT.minus.bw', 'indexfile': None, 'filetype': '', 'datatype': 'vector', 'name': 'USF1.K562.ENCSR000BKT.minus.bw', 'coordSystem': '', 'coordSystem2': '', 'created': '2021-10-02T03:24:17.564830Z', 'tags': [{'name': 'datatype:vector', 'description': ''}, {'name': 'filetype:bigwig', 'description': ''}], 'hidden': False, 'project': 'J5kSddHoT5usdIwH3Jeujw', 'description': '', 'filesize': 0}\n"
     ]
    },
    {
     "name": "stderr",
     "output_type": "stream",
     "text": [
      "INFO:resgen:Syncing dataset: http://mitra.stanford.edu/kundaje/surag/dynseq/beta_globin/pred_bigWigs/USF1.K562.ENCSR000BKT.plus.bw\n"
     ]
    },
    {
     "name": "stdout",
     "output_type": "stream",
     "text": [
      "url https://resgen.io/api/v1/list_tilesets/?limit=1000&&ui=J5kSddHoT5usdIwH3Jeujw&df=USF1.K562.ENCSR000BKT.plus.bw&ac=&limit=1000\n"
     ]
    },
    {
     "name": "stderr",
     "output_type": "stream",
     "text": [
      "INFO:resgen:Adding link dataset: http://mitra.stanford.edu/kundaje/surag/dynseq/beta_globin/pred_bigWigs/USF1.K562.ENCSR000BKT.plus.bw\n"
     ]
    },
    {
     "name": "stdout",
     "output_type": "stream",
     "text": [
      "content {'uuid': 'VtUxS-PJTZemUDIT7Ps9bw', 'datafile': 'http://mitra.stanford.edu/kundaje/surag/dynseq/beta_globin/pred_bigWigs/USF1.K562.ENCSR000BKT.plus.bw', 'indexfile': None, 'filetype': '', 'datatype': 'vector', 'name': 'USF1.K562.ENCSR000BKT.plus.bw', 'coordSystem': '', 'coordSystem2': '', 'created': '2021-10-02T03:24:20.825396Z', 'tags': [{'name': 'datatype:vector', 'description': ''}, {'name': 'filetype:bigwig', 'description': ''}], 'hidden': False, 'project': 'J5kSddHoT5usdIwH3Jeujw', 'description': '', 'filesize': 0}\n"
     ]
    }
   ],
   "source": [
    "base_url = 'http://mitra.stanford.edu/kundaje/surag/dynseq/beta_globin'\n",
    "\n",
    "datasets = [\n",
    "    'http://mitra.stanford.edu/kundaje/surag/dynseq/beta_globin/GATA1.K562.ENCSR000EFT.chr11.counts.bw',\n",
    "    'http://mitra.stanford.edu/kundaje/surag/dynseq/beta_globin/GATA1.K562.ENCSR000EFT.profile.bw',\n",
    "    'http://mitra.stanford.edu/kundaje/surag/dynseq/beta_globin/GATA2.K562.ENCSR000BKM.chr11.counts.bw',\n",
    "    'http://mitra.stanford.edu/kundaje/surag/dynseq/beta_globin/GATA2.K562.ENCSR000BKM.profile.bw',\n",
    "    'http://mitra.stanford.edu/kundaje/surag/dynseq/beta_globin/K562.DNase.ENCSR000EOT.chr11.count.bw',\n",
    "    'http://mitra.stanford.edu/kundaje/surag/dynseq/beta_globin/K562.DNase.ENCSR000EOT.chr11.profile.bw',\n",
    "    'http://mitra.stanford.edu/kundaje/surag/dynseq/beta_globin/NFE2.K562.ENCSR000FCC.profile.bw',\n",
    "    'http://mitra.stanford.edu/kundaje/surag/dynseq/beta_globin/TAL1.K562.ENCSR000EHB.chr11.counts.bw',\n",
    "    'http://mitra.stanford.edu/kundaje/surag/dynseq/beta_globin/TAL1.K562.ENCSR000EHB.profile.bw',\n",
    "    'http://mitra.stanford.edu/kundaje/surag/dynseq/beta_globin/USF1.K562.ENCSR000BKT.chr11.counts.bw',\n",
    "    'http://mitra.stanford.edu/kundaje/surag/dynseq/beta_globin/USF1.K562.ENCSR000BKT.profile.bw',\n",
    "    'http://mitra.stanford.edu/kundaje/surag/dynseq/beta_globin/observed_bigWigs/GATA1.K562.ENCSR000EFT_minus.bigWig',\n",
    "    'http://mitra.stanford.edu/kundaje/surag/dynseq/beta_globin/observed_bigWigs/GATA1.K562.ENCSR000EFT_plus.bigWig',\n",
    "    'http://mitra.stanford.edu/kundaje/surag/dynseq/beta_globin/observed_bigWigs/GATA2.K562.ENCSR000BKM_minus.bigWig',\n",
    "    'http://mitra.stanford.edu/kundaje/surag/dynseq/beta_globin/observed_bigWigs/GATA2.K562.ENCSR000BKM_plus.bigWig',\n",
    "    'http://mitra.stanford.edu/kundaje/surag/dynseq/beta_globin/observed_bigWigs/K562.DNase.ENCSR000EOT.bw',\n",
    "    'http://mitra.stanford.edu/kundaje/surag/dynseq/beta_globin/observed_bigWigs/NFE2.K562.ENCSR000FCC_minus.bigWig',\n",
    "    'http://mitra.stanford.edu/kundaje/surag/dynseq/beta_globin/observed_bigWigs/NFE2.K562.ENCSR000FCC_plus.bigWig',\n",
    "    'http://mitra.stanford.edu/kundaje/surag/dynseq/beta_globin/observed_bigWigs/TAL1.K562.ENCSR000EHB_minus.bigWig',\n",
    "    'http://mitra.stanford.edu/kundaje/surag/dynseq/beta_globin/observed_bigWigs/TAL1.K562.ENCSR000EHB_plus.bigWig',\n",
    "    'http://mitra.stanford.edu/kundaje/surag/dynseq/beta_globin/observed_bigWigs/USF1.K562.ENCSR000BKT_minus.bigWig',\n",
    "    'http://mitra.stanford.edu/kundaje/surag/dynseq/beta_globin/observed_bigWigs/USF1.K562.ENCSR000BKT_plus.bigWig',\n",
    "    'http://mitra.stanford.edu/kundaje/surag/dynseq/beta_globin/pred_bigWigs/GATA1.K562.ENCSR000EFT.minus.bw',\n",
    "    'http://mitra.stanford.edu/kundaje/surag/dynseq/beta_globin/pred_bigWigs/GATA1.K562.ENCSR000EFT.plus.bw',\n",
    "    'http://mitra.stanford.edu/kundaje/surag/dynseq/beta_globin/pred_bigWigs/GATA2.K562.ENCSR000BKM.minus.bw',\n",
    "    'http://mitra.stanford.edu/kundaje/surag/dynseq/beta_globin/pred_bigWigs/GATA2.K562.ENCSR000BKM.plus.bw',\n",
    "    'http://mitra.stanford.edu/kundaje/surag/dynseq/beta_globin/pred_bigWigs/K562.DNase.ENCSR000EOT.chr11.pred.bw',\n",
    "    'http://mitra.stanford.edu/kundaje/surag/dynseq/beta_globin/pred_bigWigs/NFE2.K562.ENCSR000FCC.minus.bw',\n",
    "    'http://mitra.stanford.edu/kundaje/surag/dynseq/beta_globin/pred_bigWigs/NFE2.K562.ENCSR000FCC.plus.bw',\n",
    "    'http://mitra.stanford.edu/kundaje/surag/dynseq/beta_globin/pred_bigWigs/TAL1.K562.ENCSR000EHB.minus.bw',\n",
    "    'http://mitra.stanford.edu/kundaje/surag/dynseq/beta_globin/pred_bigWigs/TAL1.K562.ENCSR000EHB.plus.bw',\n",
    "    'http://mitra.stanford.edu/kundaje/surag/dynseq/beta_globin/pred_bigWigs/USF1.K562.ENCSR000BKT.minus.bw',\n",
    "    'http://mitra.stanford.edu/kundaje/surag/dynseq/beta_globin/pred_bigWigs/USF1.K562.ENCSR000BKT.plus.bw'\n",
    "]\n",
    "\n",
    "for dataset in datasets:\n",
    "    project.sync_dataset(dataset,\n",
    "                         assembly='hg38', filetype='bigwig',\n",
    "                         datatype='vector')"
   ]
  },
  {
   "cell_type": "markdown",
   "metadata": {},
   "source": [
    "## Figure 2"
   ]
  },
  {
   "cell_type": "code",
   "execution_count": 7,
   "metadata": {},
   "outputs": [
    {
     "name": "stdout",
     "output_type": "stream",
     "text": [
      "content {'uuid': 'NSbBLOJiT7eQmNQjmZIXaA', 'datafile': 'http://mitra.stanford.edu/kundaje/surag/resgen/signal/cluster_idx1.pval.signal.bw', 'indexfile': None, 'filetype': '', 'datatype': 'vector', 'name': 'cluster_idx1.pval.signal.bw', 'coordSystem': '', 'coordSystem2': '', 'created': '2021-10-04T04:34:00.714965Z', 'tags': [{'name': 'datatype:vector', 'description': ''}, {'name': 'filetype:bigwig', 'description': ''}], 'hidden': False, 'project': 'RUDyVtwdSV6lu7Q-26hx-A', 'description': '', 'filesize': 0}\n",
      "content {'uuid': 'EzcUDXAnRWqgWpFBwqwhMQ', 'datafile': 'http://mitra.stanford.edu/kundaje/surag/resgen/signal/cluster_idx2.pval.signal.bw', 'indexfile': None, 'filetype': '', 'datatype': 'vector', 'name': 'cluster_idx2.pval.signal.bw', 'coordSystem': '', 'coordSystem2': '', 'created': '2021-10-04T04:34:04.241423Z', 'tags': [{'name': 'datatype:vector', 'description': ''}, {'name': 'filetype:bigwig', 'description': ''}], 'hidden': False, 'project': 'RUDyVtwdSV6lu7Q-26hx-A', 'description': '', 'filesize': 0}\n",
      "content {'uuid': 'K-ksjky2Q6GEuI-2hyTfkQ', 'datafile': 'http://mitra.stanford.edu/kundaje/surag/resgen/signal/cluster_idx3.pval.signal.bw', 'indexfile': None, 'filetype': '', 'datatype': 'vector', 'name': 'cluster_idx3.pval.signal.bw', 'coordSystem': '', 'coordSystem2': '', 'created': '2021-10-04T04:34:07.644957Z', 'tags': [{'name': 'datatype:vector', 'description': ''}, {'name': 'filetype:bigwig', 'description': ''}], 'hidden': False, 'project': 'RUDyVtwdSV6lu7Q-26hx-A', 'description': '', 'filesize': 0}\n",
      "content {'uuid': 'LwZd3IqdSh-fw1qpwtC02g', 'datafile': 'http://mitra.stanford.edu/kundaje/surag/resgen/signal/cluster_idx4.pval.signal.bw', 'indexfile': None, 'filetype': '', 'datatype': 'vector', 'name': 'cluster_idx4.pval.signal.bw', 'coordSystem': '', 'coordSystem2': '', 'created': '2021-10-04T04:34:11.083263Z', 'tags': [{'name': 'datatype:vector', 'description': ''}, {'name': 'filetype:bigwig', 'description': ''}], 'hidden': False, 'project': 'RUDyVtwdSV6lu7Q-26hx-A', 'description': '', 'filesize': 0}\n",
      "content {'uuid': 'FlyTsBVNQnq2Mj-LIs5kKQ', 'datafile': 'http://mitra.stanford.edu/kundaje/surag/resgen/signal/cluster_idx5.pval.signal.bw', 'indexfile': None, 'filetype': '', 'datatype': 'vector', 'name': 'cluster_idx5.pval.signal.bw', 'coordSystem': '', 'coordSystem2': '', 'created': '2021-10-04T04:34:14.660123Z', 'tags': [{'name': 'datatype:vector', 'description': ''}, {'name': 'filetype:bigwig', 'description': ''}], 'hidden': False, 'project': 'RUDyVtwdSV6lu7Q-26hx-A', 'description': '', 'filesize': 0}\n",
      "content {'uuid': 'bis4f398RZ6cj_-8uK8nkg', 'datafile': 'http://mitra.stanford.edu/kundaje/surag/resgen/signal/cluster_idx6.pval.signal.bw', 'indexfile': None, 'filetype': '', 'datatype': 'vector', 'name': 'cluster_idx6.pval.signal.bw', 'coordSystem': '', 'coordSystem2': '', 'created': '2021-10-04T04:34:19.999541Z', 'tags': [{'name': 'datatype:vector', 'description': ''}, {'name': 'filetype:bigwig', 'description': ''}], 'hidden': False, 'project': 'RUDyVtwdSV6lu7Q-26hx-A', 'description': '', 'filesize': 0}\n",
      "content {'uuid': 'JD51HvXzRgyTDUWUlspihg', 'datafile': 'http://mitra.stanford.edu/kundaje/surag/resgen/signal/cluster_idx7.pval.signal.bw', 'indexfile': None, 'filetype': '', 'datatype': 'vector', 'name': 'cluster_idx7.pval.signal.bw', 'coordSystem': '', 'coordSystem2': '', 'created': '2021-10-04T04:34:23.486316Z', 'tags': [{'name': 'datatype:vector', 'description': ''}, {'name': 'filetype:bigwig', 'description': ''}], 'hidden': False, 'project': 'RUDyVtwdSV6lu7Q-26hx-A', 'description': '', 'filesize': 0}\n",
      "content {'uuid': 'ZXkpqoh4R7C5rsfVY0vuuw', 'datafile': 'http://mitra.stanford.edu/kundaje/surag/resgen/signal/cluster_idx8.pval.signal.bw', 'indexfile': None, 'filetype': '', 'datatype': 'vector', 'name': 'cluster_idx8.pval.signal.bw', 'coordSystem': '', 'coordSystem2': '', 'created': '2021-10-04T04:34:27.576242Z', 'tags': [{'name': 'datatype:vector', 'description': ''}, {'name': 'filetype:bigwig', 'description': ''}], 'hidden': False, 'project': 'RUDyVtwdSV6lu7Q-26hx-A', 'description': '', 'filesize': 0}\n",
      "content {'uuid': 'G2-gvL6cTr-mx09Bgcwa4g', 'datafile': 'http://mitra.stanford.edu/kundaje/surag/resgen/signal/cluster_idx9.pval.signal.bw', 'indexfile': None, 'filetype': '', 'datatype': 'vector', 'name': 'cluster_idx9.pval.signal.bw', 'coordSystem': '', 'coordSystem2': '', 'created': '2021-10-04T04:34:31.527033Z', 'tags': [{'name': 'datatype:vector', 'description': ''}, {'name': 'filetype:bigwig', 'description': ''}], 'hidden': False, 'project': 'RUDyVtwdSV6lu7Q-26hx-A', 'description': '', 'filesize': 0}\n",
      "content {'uuid': 'drL0A_HbS52HEp9HloBa4g', 'datafile': 'http://mitra.stanford.edu/kundaje/surag/resgen/signal/cluster_idx10.pval.signal.bw', 'indexfile': None, 'filetype': '', 'datatype': 'vector', 'name': 'cluster_idx10.pval.signal.bw', 'coordSystem': '', 'coordSystem2': '', 'created': '2021-10-04T04:34:35.258013Z', 'tags': [{'name': 'datatype:vector', 'description': ''}, {'name': 'filetype:bigwig', 'description': ''}], 'hidden': False, 'project': 'RUDyVtwdSV6lu7Q-26hx-A', 'description': '', 'filesize': 0}\n",
      "content {'uuid': 'Lip9uaWvRgG_fBdNUVF6hg', 'datafile': 'http://mitra.stanford.edu/kundaje/surag/resgen/signal/cluster_idx11.pval.signal.bw', 'indexfile': None, 'filetype': '', 'datatype': 'vector', 'name': 'cluster_idx11.pval.signal.bw', 'coordSystem': '', 'coordSystem2': '', 'created': '2021-10-04T04:34:38.830186Z', 'tags': [{'name': 'datatype:vector', 'description': ''}, {'name': 'filetype:bigwig', 'description': ''}], 'hidden': False, 'project': 'RUDyVtwdSV6lu7Q-26hx-A', 'description': '', 'filesize': 0}\n",
      "content {'uuid': 'FC9F_36iRLuPRH5E6vUz4w', 'datafile': 'http://mitra.stanford.edu/kundaje/surag/resgen/signal/cluster_idx12.pval.signal.bw', 'indexfile': None, 'filetype': '', 'datatype': 'vector', 'name': 'cluster_idx12.pval.signal.bw', 'coordSystem': '', 'coordSystem2': '', 'created': '2021-10-04T04:34:42.384568Z', 'tags': [{'name': 'datatype:vector', 'description': ''}, {'name': 'filetype:bigwig', 'description': ''}], 'hidden': False, 'project': 'RUDyVtwdSV6lu7Q-26hx-A', 'description': '', 'filesize': 0}\n",
      "content {'uuid': 'ARupmoOESQuid_sOx00Cxw', 'datafile': 'http://mitra.stanford.edu/kundaje/surag/resgen/signal/cluster_idx13.pval.signal.bw', 'indexfile': None, 'filetype': '', 'datatype': 'vector', 'name': 'cluster_idx13.pval.signal.bw', 'coordSystem': '', 'coordSystem2': '', 'created': '2021-10-04T04:34:46.694672Z', 'tags': [{'name': 'datatype:vector', 'description': ''}, {'name': 'filetype:bigwig', 'description': ''}], 'hidden': False, 'project': 'RUDyVtwdSV6lu7Q-26hx-A', 'description': '', 'filesize': 0}\n",
      "content {'uuid': 'Uf4971I8RuCfmMT9IqIoXg', 'datafile': 'http://mitra.stanford.edu/kundaje/surag/resgen/signal/cluster_idx14.pval.signal.bw', 'indexfile': None, 'filetype': '', 'datatype': 'vector', 'name': 'cluster_idx14.pval.signal.bw', 'coordSystem': '', 'coordSystem2': '', 'created': '2021-10-04T04:34:50.205711Z', 'tags': [{'name': 'datatype:vector', 'description': ''}, {'name': 'filetype:bigwig', 'description': ''}], 'hidden': False, 'project': 'RUDyVtwdSV6lu7Q-26hx-A', 'description': '', 'filesize': 0}\n",
      "content {'uuid': 'NwDekQKfS2OE31iyPDJvIQ', 'datafile': 'http://mitra.stanford.edu/kundaje/surag/resgen/signal/cluster_idx15.pval.signal.bw', 'indexfile': None, 'filetype': '', 'datatype': 'vector', 'name': 'cluster_idx15.pval.signal.bw', 'coordSystem': '', 'coordSystem2': '', 'created': '2021-10-04T04:34:53.860295Z', 'tags': [{'name': 'datatype:vector', 'description': ''}, {'name': 'filetype:bigwig', 'description': ''}], 'hidden': False, 'project': 'RUDyVtwdSV6lu7Q-26hx-A', 'description': '', 'filesize': 0}\n"
     ]
    }
   ],
   "source": [
    "project2 = rgc.find_or_create_project('encode-demo-2', group='kundaje-lab', private=False)\n",
    "\n",
    "for i in range(1,16):\n",
    "    project2.sync_dataset(\n",
    "        f\"http://mitra.stanford.edu/kundaje/surag/resgen/signal/cluster_idx{i}.pval.signal.bw\",\n",
    "        assembly='hg38', filetype='bigwig',\n",
    "                         datatype='vector'\n",
    "    )"
   ]
  },
  {
   "cell_type": "code",
   "execution_count": 8,
   "metadata": {},
   "outputs": [
    {
     "name": "stdout",
     "output_type": "stream",
     "text": [
      "content {'uuid': 'e9EMqNV0TtSOo4QxxfXVyg', 'datafile': 'http://mitra.stanford.edu/kundaje/surag/resgen/importance/cluster_idx1.counts.importance.bw', 'indexfile': None, 'filetype': '', 'datatype': 'vector', 'name': 'cluster_idx1.counts.importance.bw', 'coordSystem': '', 'coordSystem2': '', 'created': '2021-10-04T04:38:58.371009Z', 'tags': [{'name': 'datatype:vector', 'description': ''}, {'name': 'filetype:bigwig', 'description': ''}], 'hidden': False, 'project': 'RUDyVtwdSV6lu7Q-26hx-A', 'description': '', 'filesize': 0}\n",
      "content {'uuid': 'BY0ujSelRZ6ZiCzbHGpfXA', 'datafile': 'http://mitra.stanford.edu/kundaje/surag/resgen/importance/cluster_idx2.counts.importance.bw', 'indexfile': None, 'filetype': '', 'datatype': 'vector', 'name': 'cluster_idx2.counts.importance.bw', 'coordSystem': '', 'coordSystem2': '', 'created': '2021-10-04T04:39:01.522857Z', 'tags': [{'name': 'datatype:vector', 'description': ''}, {'name': 'filetype:bigwig', 'description': ''}], 'hidden': False, 'project': 'RUDyVtwdSV6lu7Q-26hx-A', 'description': '', 'filesize': 0}\n",
      "content {'uuid': 'ANyOFmNbTceqPV8HSgsKug', 'datafile': 'http://mitra.stanford.edu/kundaje/surag/resgen/importance/cluster_idx3.counts.importance.bw', 'indexfile': None, 'filetype': '', 'datatype': 'vector', 'name': 'cluster_idx3.counts.importance.bw', 'coordSystem': '', 'coordSystem2': '', 'created': '2021-10-04T04:39:04.837646Z', 'tags': [{'name': 'datatype:vector', 'description': ''}, {'name': 'filetype:bigwig', 'description': ''}], 'hidden': False, 'project': 'RUDyVtwdSV6lu7Q-26hx-A', 'description': '', 'filesize': 0}\n",
      "content {'uuid': 'SNjcrDdKSeyYsKsvyOFw4A', 'datafile': 'http://mitra.stanford.edu/kundaje/surag/resgen/importance/cluster_idx4.counts.importance.bw', 'indexfile': None, 'filetype': '', 'datatype': 'vector', 'name': 'cluster_idx4.counts.importance.bw', 'coordSystem': '', 'coordSystem2': '', 'created': '2021-10-04T04:39:08.010150Z', 'tags': [{'name': 'datatype:vector', 'description': ''}, {'name': 'filetype:bigwig', 'description': ''}], 'hidden': False, 'project': 'RUDyVtwdSV6lu7Q-26hx-A', 'description': '', 'filesize': 0}\n",
      "content {'uuid': 'Xpis1vUpRUK-6Z7_5x5SKg', 'datafile': 'http://mitra.stanford.edu/kundaje/surag/resgen/importance/cluster_idx5.counts.importance.bw', 'indexfile': None, 'filetype': '', 'datatype': 'vector', 'name': 'cluster_idx5.counts.importance.bw', 'coordSystem': '', 'coordSystem2': '', 'created': '2021-10-04T04:39:11.332891Z', 'tags': [{'name': 'datatype:vector', 'description': ''}, {'name': 'filetype:bigwig', 'description': ''}], 'hidden': False, 'project': 'RUDyVtwdSV6lu7Q-26hx-A', 'description': '', 'filesize': 0}\n",
      "content {'uuid': 'Y0UR2gjjQ3SqXrPB0W-KsQ', 'datafile': 'http://mitra.stanford.edu/kundaje/surag/resgen/importance/cluster_idx6.counts.importance.bw', 'indexfile': None, 'filetype': '', 'datatype': 'vector', 'name': 'cluster_idx6.counts.importance.bw', 'coordSystem': '', 'coordSystem2': '', 'created': '2021-10-04T04:39:14.636422Z', 'tags': [{'name': 'datatype:vector', 'description': ''}, {'name': 'filetype:bigwig', 'description': ''}], 'hidden': False, 'project': 'RUDyVtwdSV6lu7Q-26hx-A', 'description': '', 'filesize': 0}\n",
      "content {'uuid': 'RdeiRTqeR8O0ZwVkLYToNQ', 'datafile': 'http://mitra.stanford.edu/kundaje/surag/resgen/importance/cluster_idx7.counts.importance.bw', 'indexfile': None, 'filetype': '', 'datatype': 'vector', 'name': 'cluster_idx7.counts.importance.bw', 'coordSystem': '', 'coordSystem2': '', 'created': '2021-10-04T04:39:17.908997Z', 'tags': [{'name': 'datatype:vector', 'description': ''}, {'name': 'filetype:bigwig', 'description': ''}], 'hidden': False, 'project': 'RUDyVtwdSV6lu7Q-26hx-A', 'description': '', 'filesize': 0}\n",
      "content {'uuid': 'GxooH4YuQjOcFEoc3h8F9A', 'datafile': 'http://mitra.stanford.edu/kundaje/surag/resgen/importance/cluster_idx8.counts.importance.bw', 'indexfile': None, 'filetype': '', 'datatype': 'vector', 'name': 'cluster_idx8.counts.importance.bw', 'coordSystem': '', 'coordSystem2': '', 'created': '2021-10-04T04:39:21.219140Z', 'tags': [{'name': 'datatype:vector', 'description': ''}, {'name': 'filetype:bigwig', 'description': ''}], 'hidden': False, 'project': 'RUDyVtwdSV6lu7Q-26hx-A', 'description': '', 'filesize': 0}\n",
      "content {'uuid': 'cK9z0l4wQuWEP6p48mZ7SA', 'datafile': 'http://mitra.stanford.edu/kundaje/surag/resgen/importance/cluster_idx9.counts.importance.bw', 'indexfile': None, 'filetype': '', 'datatype': 'vector', 'name': 'cluster_idx9.counts.importance.bw', 'coordSystem': '', 'coordSystem2': '', 'created': '2021-10-04T04:39:24.455803Z', 'tags': [{'name': 'datatype:vector', 'description': ''}, {'name': 'filetype:bigwig', 'description': ''}], 'hidden': False, 'project': 'RUDyVtwdSV6lu7Q-26hx-A', 'description': '', 'filesize': 0}\n",
      "content {'uuid': 'A97Rz2CmRVyUVlZT4xxZhQ', 'datafile': 'http://mitra.stanford.edu/kundaje/surag/resgen/importance/cluster_idx10.counts.importance.bw', 'indexfile': None, 'filetype': '', 'datatype': 'vector', 'name': 'cluster_idx10.counts.importance.bw', 'coordSystem': '', 'coordSystem2': '', 'created': '2021-10-04T04:39:27.559019Z', 'tags': [{'name': 'datatype:vector', 'description': ''}, {'name': 'filetype:bigwig', 'description': ''}], 'hidden': False, 'project': 'RUDyVtwdSV6lu7Q-26hx-A', 'description': '', 'filesize': 0}\n",
      "content {'uuid': 'ScrTSKXwStWK98ppD2ygqg', 'datafile': 'http://mitra.stanford.edu/kundaje/surag/resgen/importance/cluster_idx11.counts.importance.bw', 'indexfile': None, 'filetype': '', 'datatype': 'vector', 'name': 'cluster_idx11.counts.importance.bw', 'coordSystem': '', 'coordSystem2': '', 'created': '2021-10-04T04:39:30.737962Z', 'tags': [{'name': 'datatype:vector', 'description': ''}, {'name': 'filetype:bigwig', 'description': ''}], 'hidden': False, 'project': 'RUDyVtwdSV6lu7Q-26hx-A', 'description': '', 'filesize': 0}\n",
      "content {'uuid': 'Hogp3iWrQgmj_1R4l4XvRA', 'datafile': 'http://mitra.stanford.edu/kundaje/surag/resgen/importance/cluster_idx12.counts.importance.bw', 'indexfile': None, 'filetype': '', 'datatype': 'vector', 'name': 'cluster_idx12.counts.importance.bw', 'coordSystem': '', 'coordSystem2': '', 'created': '2021-10-04T04:39:33.884684Z', 'tags': [{'name': 'datatype:vector', 'description': ''}, {'name': 'filetype:bigwig', 'description': ''}], 'hidden': False, 'project': 'RUDyVtwdSV6lu7Q-26hx-A', 'description': '', 'filesize': 0}\n",
      "content {'uuid': 'AMLLQsxsSaWy3hRXUe0LxQ', 'datafile': 'http://mitra.stanford.edu/kundaje/surag/resgen/importance/cluster_idx13.counts.importance.bw', 'indexfile': None, 'filetype': '', 'datatype': 'vector', 'name': 'cluster_idx13.counts.importance.bw', 'coordSystem': '', 'coordSystem2': '', 'created': '2021-10-04T04:39:36.994350Z', 'tags': [{'name': 'datatype:vector', 'description': ''}, {'name': 'filetype:bigwig', 'description': ''}], 'hidden': False, 'project': 'RUDyVtwdSV6lu7Q-26hx-A', 'description': '', 'filesize': 0}\n",
      "content {'uuid': 'YO1P5iPcRBenXN0tVZF59Q', 'datafile': 'http://mitra.stanford.edu/kundaje/surag/resgen/importance/cluster_idx14.counts.importance.bw', 'indexfile': None, 'filetype': '', 'datatype': 'vector', 'name': 'cluster_idx14.counts.importance.bw', 'coordSystem': '', 'coordSystem2': '', 'created': '2021-10-04T04:39:40.341183Z', 'tags': [{'name': 'datatype:vector', 'description': ''}, {'name': 'filetype:bigwig', 'description': ''}], 'hidden': False, 'project': 'RUDyVtwdSV6lu7Q-26hx-A', 'description': '', 'filesize': 0}\n",
      "content {'uuid': 'fp_6xIIARfCnDtHa4kJf2g', 'datafile': 'http://mitra.stanford.edu/kundaje/surag/resgen/importance/cluster_idx15.counts.importance.bw', 'indexfile': None, 'filetype': '', 'datatype': 'vector', 'name': 'cluster_idx15.counts.importance.bw', 'coordSystem': '', 'coordSystem2': '', 'created': '2021-10-04T04:39:43.703466Z', 'tags': [{'name': 'datatype:vector', 'description': ''}, {'name': 'filetype:bigwig', 'description': ''}], 'hidden': False, 'project': 'RUDyVtwdSV6lu7Q-26hx-A', 'description': '', 'filesize': 0}\n"
     ]
    }
   ],
   "source": [
    "for i in range(1,16):\n",
    "    project2.sync_dataset(\n",
    "        f\"http://mitra.stanford.edu/kundaje/surag/resgen/importance/cluster_idx{i}.counts.importance.bw\",\n",
    "        assembly='hg38', filetype='bigwig',\n",
    "                         datatype='vector'\n",
    "    )"
   ]
  },
  {
   "cell_type": "code",
   "execution_count": null,
   "metadata": {},
   "outputs": [],
   "source": []
  }
 ],
 "metadata": {
  "kernelspec": {
   "display_name": "Python 3",
   "language": "python",
   "name": "python3"
  },
  "language_info": {
   "codemirror_mode": {
    "name": "ipython",
    "version": 3
   },
   "file_extension": ".py",
   "mimetype": "text/x-python",
   "name": "python",
   "nbconvert_exporter": "python",
   "pygments_lexer": "ipython3",
   "version": "3.8.3"
  }
 },
 "nbformat": 4,
 "nbformat_minor": 4
}
